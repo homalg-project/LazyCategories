{
 "cells": [
  {
   "cell_type": "markdown",
   "id": "5dd5d895",
   "metadata": {},
   "source": [
    "[![Binder](https://mybinder.org/badge_logo.svg)](https://gesis.mybinder.org/v2/gh/homalg-project/CapAndHomalgNotebooks/master?urlpath=git-pull%3Frepo%3Dhttps%253A%252F%252Fgithub.com%252Fhomalg-project%252FLazyCategories%26urlpath%3Dtree%252FLazyCategories%252Fexamples%252F%252Fnotebooks%252FSnakeInAbelian.ipynb%26branch%3Dmaster)"
   ]
  },
  {
   "cell_type": "code",
   "execution_count": 1,
   "id": "d58ce03e",
   "metadata": {},
   "outputs": [
    {
     "name": "stdout",
     "output_type": "stream",
     "text": [
      "CapAndHomalg v\u001b[32m1.4.2\u001b[39m\n",
      "Imported OSCAR's components GAP and Singular_jll\n",
      "Type: ?CapAndHomalg for more information\n"
     ]
    }
   ],
   "source": [
    "using CapAndHomalg"
   ]
  },
  {
   "cell_type": "code",
   "execution_count": 2,
   "id": "d9b66021",
   "metadata": {},
   "outputs": [
    {
     "data": {
      "text/plain": [
       "GAP: Q"
      ]
     },
     "execution_count": 2,
     "metadata": {},
     "output_type": "execute_result"
    }
   ],
   "source": [
    "ℚ = HomalgFieldOfRationals( )"
   ]
  },
  {
   "cell_type": "code",
   "execution_count": 3,
   "id": "cfdf7d6f",
   "metadata": {},
   "outputs": [
    {
     "data": {
      "text/plain": [
       "GAP: <An unevaluated 8 x 8 identity matrix over an internal ring>"
      ]
     },
     "execution_count": 3,
     "metadata": {},
     "output_type": "execute_result"
    }
   ],
   "source": [
    "id = HomalgIdentityMatrix( 8, ℚ )"
   ]
  },
  {
   "cell_type": "code",
   "execution_count": 4,
   "id": "6d5795ba",
   "metadata": {},
   "outputs": [
    {
     "data": {
      "text/plain": [
       "GAP: <An unevaluated non-zero 3 x 4 matrix over an internal ring>"
      ]
     },
     "execution_count": 4,
     "metadata": {},
     "output_type": "execute_result"
    }
   ],
   "source": [
    "a = CertainColumns( CertainRows( id, [ 1, 2, 3 ] ), [ 2, 3, 4, 5 ] )"
   ]
  },
  {
   "cell_type": "code",
   "execution_count": 5,
   "id": "ef040257",
   "metadata": {},
   "outputs": [
    {
     "data": {
      "text/plain": [
       "GAP: <An unevaluated non-zero 4 x 5 matrix over an internal ring>"
      ]
     },
     "execution_count": 5,
     "metadata": {},
     "output_type": "execute_result"
    }
   ],
   "source": [
    "b = CertainColumns( CertainRows( id, [ 1, 2, 3, 4 ] ), [ 2, 3, 4, 5, 6 ] )"
   ]
  },
  {
   "cell_type": "code",
   "execution_count": 6,
   "id": "ab154c80",
   "metadata": {},
   "outputs": [
    {
     "data": {
      "text/plain": [
       "GAP: <An unevaluated non-zero 5 x 6 matrix over an internal ring>"
      ]
     },
     "execution_count": 6,
     "metadata": {},
     "output_type": "execute_result"
    }
   ],
   "source": [
    "c = CertainColumns( CertainRows( id, [ 1, 2, 3, 4, 5 ] ), [ 3, 4, 5, 6, 7, 8 ] )"
   ]
  },
  {
   "cell_type": "code",
   "execution_count": 7,
   "id": "2b92e16b",
   "metadata": {},
   "outputs": [
    {
     "data": {
      "text/plain": [
       "false"
      ]
     },
     "execution_count": 7,
     "metadata": {},
     "output_type": "execute_result"
    }
   ],
   "source": [
    "IsZero( a * b )"
   ]
  },
  {
   "cell_type": "code",
   "execution_count": 8,
   "id": "01999caa",
   "metadata": {},
   "outputs": [
    {
     "data": {
      "text/plain": [
       "false"
      ]
     },
     "execution_count": 8,
     "metadata": {},
     "output_type": "execute_result"
    }
   ],
   "source": [
    "IsZero( b * c )"
   ]
  },
  {
   "cell_type": "code",
   "execution_count": 9,
   "id": "6b9695b5",
   "metadata": {
    "slideshow": {
     "slide_type": "slide"
    }
   },
   "outputs": [
    {
     "data": {
      "text/plain": [
       "true"
      ]
     },
     "execution_count": 9,
     "metadata": {},
     "output_type": "execute_result"
    }
   ],
   "source": [
    "IsZero( a * b * c )"
   ]
  },
  {
   "cell_type": "code",
   "execution_count": 10,
   "id": "ed419431",
   "metadata": {},
   "outputs": [],
   "source": [
    "LoadPackage( \"LinearAlgebraForCAP\" )"
   ]
  },
  {
   "cell_type": "code",
   "execution_count": 11,
   "id": "8d11916b",
   "metadata": {},
   "outputs": [
    {
     "data": {
      "text/plain": [
       "GAP: Category of matrices over Q"
      ]
     },
     "execution_count": 11,
     "metadata": {},
     "output_type": "execute_result"
    }
   ],
   "source": [
    "ℚmat = MatrixCategory( ℚ )"
   ]
  },
  {
   "cell_type": "code",
   "execution_count": 12,
   "id": "c9bc29d3",
   "metadata": {},
   "outputs": [],
   "source": [
    "LoadPackage( \"LazyCategories\" )"
   ]
  },
  {
   "cell_type": "code",
   "execution_count": 13,
   "id": "bdb774ae",
   "metadata": {},
   "outputs": [
    {
     "data": {
      "text/plain": [
       "GAP: LazyCategory( Category of matrices over Q )"
      ]
     },
     "execution_count": 13,
     "metadata": {},
     "output_type": "execute_result"
    }
   ],
   "source": [
    "Lazy = LazyCategory( ℚmat, show_evaluation = true )"
   ]
  },
  {
   "cell_type": "code",
   "execution_count": 14,
   "id": "10025807",
   "metadata": {},
   "outputs": [
    {
     "data": {
      "text/plain": [
       "GAP: <An evaluated morphism in LazyCategory( Category of matrices over Q )>"
      ]
     },
     "execution_count": 14,
     "metadata": {},
     "output_type": "execute_result"
    }
   ],
   "source": [
    "a = a / Lazy"
   ]
  },
  {
   "cell_type": "code",
   "execution_count": 15,
   "id": "362efbb1",
   "metadata": {},
   "outputs": [],
   "source": [
    "SetLabel( a, \"a\" )"
   ]
  },
  {
   "cell_type": "code",
   "execution_count": 16,
   "id": "29021d47",
   "metadata": {},
   "outputs": [
    {
     "data": {
      "text/plain": [
       "GAP: <An evaluated morphism in LazyCategory( Category of matrices over Q )>"
      ]
     },
     "execution_count": 16,
     "metadata": {},
     "output_type": "execute_result"
    }
   ],
   "source": [
    "b = b / Lazy"
   ]
  },
  {
   "cell_type": "code",
   "execution_count": 17,
   "id": "d15d1000",
   "metadata": {},
   "outputs": [],
   "source": [
    "SetLabel( b, \"b\" )"
   ]
  },
  {
   "cell_type": "code",
   "execution_count": 18,
   "id": "0fb9d381",
   "metadata": {},
   "outputs": [
    {
     "data": {
      "text/plain": [
       "GAP: <An evaluated morphism in LazyCategory( Category of matrices over Q )>"
      ]
     },
     "execution_count": 18,
     "metadata": {},
     "output_type": "execute_result"
    }
   ],
   "source": [
    "c = c / Lazy"
   ]
  },
  {
   "cell_type": "code",
   "execution_count": 19,
   "id": "24b4fa96",
   "metadata": {},
   "outputs": [],
   "source": [
    "SetLabel( c, \"c\" )"
   ]
  },
  {
   "cell_type": "code",
   "execution_count": 20,
   "id": "6b8e35e3",
   "metadata": {},
   "outputs": [],
   "source": [
    "SetLabel( Source( a ), \"1\" )\n",
    "SetLabel( Source( b ), \"2\" )\n",
    "SetLabel( Range( b ), \"3\" )\n",
    "SetLabel( Range( c ), \"4\" )"
   ]
  },
  {
   "cell_type": "code",
   "execution_count": 21,
   "id": "d156f658",
   "metadata": {},
   "outputs": [
    {
     "data": {
      "text/plain": [
       "GAP: <An epimorphism in LazyCategory( Category of matrices over Q )>"
      ]
     },
     "execution_count": 21,
     "metadata": {},
     "output_type": "execute_result"
    }
   ],
   "source": [
    "d = CokernelProjection( a )"
   ]
  },
  {
   "cell_type": "code",
   "execution_count": 22,
   "id": "55188679",
   "metadata": {},
   "outputs": [
    {
     "data": {
      "text/plain": [
       "GAP: <A morphism in LazyCategory( Category of matrices over Q )>"
      ]
     },
     "execution_count": 22,
     "metadata": {},
     "output_type": "execute_result"
    }
   ],
   "source": [
    "e = CokernelColift( a, PreCompose( b, c ) )"
   ]
  },
  {
   "cell_type": "code",
   "execution_count": 23,
   "id": "e66c7a7c",
   "metadata": {},
   "outputs": [
    {
     "data": {
      "text/plain": [
       "GAP: <A monomorphism in LazyCategory( Category of matrices over Q )>"
      ]
     },
     "execution_count": 23,
     "metadata": {},
     "output_type": "execute_result"
    }
   ],
   "source": [
    "f = KernelEmbedding( e )"
   ]
  },
  {
   "cell_type": "code",
   "execution_count": 24,
   "id": "8d769de4",
   "metadata": {},
   "outputs": [
    {
     "data": {
      "text/plain": [
       "GAP: <A monomorphism in LazyCategory( Category of matrices over Q )>"
      ]
     },
     "execution_count": 24,
     "metadata": {},
     "output_type": "execute_result"
    }
   ],
   "source": [
    "g = KernelEmbedding( c )"
   ]
  },
  {
   "cell_type": "code",
   "execution_count": 25,
   "id": "f1edd53d",
   "metadata": {},
   "outputs": [
    {
     "data": {
      "text/plain": [
       "GAP: <A morphism in LazyCategory( Category of matrices over Q )>"
      ]
     },
     "execution_count": 25,
     "metadata": {},
     "output_type": "execute_result"
    }
   ],
   "source": [
    "h = KernelLift( c, PreCompose( a, b ) )"
   ]
  },
  {
   "cell_type": "code",
   "execution_count": 26,
   "id": "0c8f975b",
   "metadata": {},
   "outputs": [
    {
     "data": {
      "text/plain": [
       "GAP: <An epimorphism in LazyCategory( Category of matrices over Q )>"
      ]
     },
     "execution_count": 26,
     "metadata": {},
     "output_type": "execute_result"
    }
   ],
   "source": [
    "i = CokernelProjection( h )"
   ]
  },
  {
   "cell_type": "code",
   "execution_count": 27,
   "id": "a6ddb644",
   "metadata": {},
   "outputs": [],
   "source": [
    "LoadPackage( \"GeneralizedMorphismsForCAP\" )"
   ]
  },
  {
   "cell_type": "code",
   "execution_count": 28,
   "id": "075e464e",
   "metadata": {},
   "outputs": [],
   "source": [
    "SwitchGeneralizedMorphismStandard( g\"cospan\" )"
   ]
  },
  {
   "cell_type": "code",
   "execution_count": 29,
   "id": "8fcda186",
   "metadata": {},
   "outputs": [
    {
     "data": {
      "text/plain": [
       "GAP: <A morphism in Generalized morphism category of LazyCategory( Category of matrices over Q ) by cospan>"
      ]
     },
     "execution_count": 29,
     "metadata": {},
     "output_type": "execute_result"
    }
   ],
   "source": [
    "ff = AsGeneralizedMorphism( f )"
   ]
  },
  {
   "cell_type": "code",
   "execution_count": 30,
   "id": "09c6ab95",
   "metadata": {},
   "outputs": [
    {
     "data": {
      "text/plain": [
       "GAP: <A morphism in Generalized morphism category of LazyCategory( Category of matrices over Q ) by cospan>"
      ]
     },
     "execution_count": 30,
     "metadata": {},
     "output_type": "execute_result"
    }
   ],
   "source": [
    "dd = AsGeneralizedMorphism( d )"
   ]
  },
  {
   "cell_type": "code",
   "execution_count": 31,
   "id": "c5a107ba",
   "metadata": {},
   "outputs": [
    {
     "data": {
      "text/plain": [
       "GAP: <A morphism in Generalized morphism category of LazyCategory( Category of matrices over Q ) by cospan>"
      ]
     },
     "execution_count": 31,
     "metadata": {},
     "output_type": "execute_result"
    }
   ],
   "source": [
    "bb = AsGeneralizedMorphism( b )"
   ]
  },
  {
   "cell_type": "code",
   "execution_count": 32,
   "id": "83e57400",
   "metadata": {},
   "outputs": [
    {
     "data": {
      "text/plain": [
       "GAP: <A morphism in Generalized morphism category of LazyCategory( Category of matrices over Q ) by cospan>"
      ]
     },
     "execution_count": 32,
     "metadata": {},
     "output_type": "execute_result"
    }
   ],
   "source": [
    "gg = AsGeneralizedMorphism( g )"
   ]
  },
  {
   "cell_type": "code",
   "execution_count": 33,
   "id": "bc72e02e",
   "metadata": {},
   "outputs": [
    {
     "data": {
      "text/plain": [
       "GAP: <A morphism in Generalized morphism category of LazyCategory( Category of matrices over Q ) by cospan>"
      ]
     },
     "execution_count": 33,
     "metadata": {},
     "output_type": "execute_result"
    }
   ],
   "source": [
    "ii = AsGeneralizedMorphism( i )"
   ]
  },
  {
   "cell_type": "code",
   "execution_count": 34,
   "id": "b604b36c",
   "metadata": {},
   "outputs": [
    {
     "data": {
      "text/plain": [
       "GAP: <A morphism in Generalized morphism category of LazyCategory( Category of matrices over Q ) by cospan>"
      ]
     },
     "execution_count": 34,
     "metadata": {},
     "output_type": "execute_result"
    }
   ],
   "source": [
    "ss = PreCompose( [ ff, PseudoInverse( dd ), bb, PseudoInverse( gg ), ii ] )"
   ]
  },
  {
   "cell_type": "code",
   "execution_count": 35,
   "id": "03fb9a83",
   "metadata": {},
   "outputs": [
    {
     "data": {
      "text/plain": [
       "GAP: <A morphism in LazyCategory( Category of matrices over Q )>"
      ]
     },
     "execution_count": 35,
     "metadata": {},
     "output_type": "execute_result"
    }
   ],
   "source": [
    "s = HonestRepresentative( ss )"
   ]
  },
  {
   "cell_type": "code",
   "execution_count": 36,
   "id": "fd1eece4",
   "metadata": {
    "scrolled": false
   },
   "outputs": [
    {
     "data": {
      "image/svg+xml": [
       "<?xml version=\"1.0\" encoding=\"UTF-8\" standalone=\"no\"?>\n",
       "<!DOCTYPE svg PUBLIC \"-//W3C//DTD SVG 1.1//EN\"\n",
       " \"http://www.w3.org/Graphics/SVG/1.1/DTD/svg11.dtd\">\n",
       "<!-- Generated by graphviz version 2.50.0 (20211204.2007)\n",
       " -->\n",
       "<!-- Title: hgn Pages: 1 -->\n",
       "<svg width=\"892pt\" height=\"1587pt\"\n",
       " viewBox=\"0.00 0.00 892.00 1587.00\" xmlns=\"http://www.w3.org/2000/svg\" xmlns:xlink=\"http://www.w3.org/1999/xlink\">\n",
       "<g id=\"graph0\" class=\"graph\" transform=\"scale(1 1) rotate(0) translate(4 1583)\">\n",
       "<title>hgn</title>\n",
       "<polygon fill=\"white\" stroke=\"transparent\" points=\"-4,4 -4,-1583 888,-1583 888,4 -4,4\"/>\n",
       "<!-- 1 -->\n",
       "<g id=\"node1\" class=\"node\">\n",
       "<title>1</title>\n",
       "<polygon fill=\"none\" stroke=\"black\" points=\"711.5,-1579 630.5,-1579 630.5,-1511 711.5,-1511 711.5,-1579\"/>\n",
       "<text text-anchor=\"middle\" x=\"671\" y=\"-1563.8\" font-family=\"DejaVu Serif,serif\" font-size=\"14.00\">[1]</text>\n",
       "<text text-anchor=\"middle\" x=\"671\" y=\"-1548.8\" font-family=\"DejaVu Serif,serif\" font-size=\"14.00\">primitive</text>\n",
       "<text text-anchor=\"middle\" x=\"671\" y=\"-1533.8\" font-family=\"DejaVu Serif,serif\" font-size=\"14.00\">morphism</text>\n",
       "<text text-anchor=\"middle\" x=\"671\" y=\"-1518.8\" font-family=\"DejaVu Serif,serif\" font-size=\"14.00\">&lt;a&gt;</text>\n",
       "</g>\n",
       "<!-- 2 -->\n",
       "<g id=\"node2\" class=\"node\">\n",
       "<title>2</title>\n",
       "<polygon fill=\"none\" stroke=\"black\" points=\"740,-1466.5 666,-1466.5 666,-1413.5 740,-1413.5 740,-1466.5\"/>\n",
       "<text text-anchor=\"middle\" x=\"703\" y=\"-1451.3\" font-family=\"DejaVu Serif,serif\" font-size=\"14.00\">[2]</text>\n",
       "<text text-anchor=\"middle\" x=\"703\" y=\"-1436.3\" font-family=\"DejaVu Serif,serif\" font-size=\"14.00\">Cokernel</text>\n",
       "<text text-anchor=\"middle\" x=\"703\" y=\"-1421.3\" font-family=\"DejaVu Serif,serif\" font-size=\"14.00\">Object</text>\n",
       "</g>\n",
       "<!-- 1&#45;&gt;2 -->\n",
       "<g id=\"edge1\" class=\"edge\">\n",
       "<title>1&#45;&gt;2</title>\n",
       "<path fill=\"none\" stroke=\"black\" d=\"M681.3,-1510.84C684.71,-1499.86 688.53,-1487.59 691.99,-1476.44\"/>\n",
       "<polygon fill=\"black\" stroke=\"black\" points=\"695.43,-1477.17 695.05,-1466.58 688.74,-1475.09 695.43,-1477.17\"/>\n",
       "</g>\n",
       "<!-- 7 -->\n",
       "<g id=\"node7\" class=\"node\">\n",
       "<title>7</title>\n",
       "<polygon fill=\"none\" stroke=\"black\" points=\"336,-1347.5 260,-1347.5 260,-1294.5 336,-1294.5 336,-1347.5\"/>\n",
       "<text text-anchor=\"middle\" x=\"298\" y=\"-1332.3\" font-family=\"DejaVu Serif,serif\" font-size=\"14.00\">[7]</text>\n",
       "<text text-anchor=\"middle\" x=\"298\" y=\"-1317.3\" font-family=\"DejaVu Serif,serif\" font-size=\"14.00\">Pre</text>\n",
       "<text text-anchor=\"middle\" x=\"298\" y=\"-1302.3\" font-family=\"DejaVu Serif,serif\" font-size=\"14.00\">Compose</text>\n",
       "</g>\n",
       "<!-- 1&#45;&gt;7 -->\n",
       "<g id=\"edge4\" class=\"edge\">\n",
       "<title>1&#45;&gt;7</title>\n",
       "<path fill=\"none\" stroke=\"black\" d=\"M630.42,-1544.7C568.26,-1543.72 448.55,-1533.49 371,-1474 333.69,-1445.37 314.46,-1392.82 305.31,-1357.64\"/>\n",
       "<polygon fill=\"black\" stroke=\"black\" points=\"308.67,-1356.65 302.89,-1347.77 301.87,-1358.32 308.67,-1356.65\"/>\n",
       "<text text-anchor=\"middle\" x=\"375.5\" y=\"-1436.3\" font-family=\"DejaVu Serif,serif\" font-size=\"14.00\">1</text>\n",
       "</g>\n",
       "<!-- 10 -->\n",
       "<g id=\"node10\" class=\"node\">\n",
       "<title>10</title>\n",
       "<polygon fill=\"none\" stroke=\"black\" points=\"708.5,-1355 569.5,-1355 569.5,-1287 708.5,-1287 708.5,-1355\"/>\n",
       "<text text-anchor=\"middle\" x=\"639\" y=\"-1339.8\" font-family=\"DejaVu Serif,serif\" font-size=\"14.00\">[10]</text>\n",
       "<text text-anchor=\"middle\" x=\"639\" y=\"-1324.8\" font-family=\"DejaVu Serif,serif\" font-size=\"14.00\">CokernelProjection</text>\n",
       "<text text-anchor=\"middle\" x=\"639\" y=\"-1309.8\" font-family=\"DejaVu Serif,serif\" font-size=\"14.00\">WithGiven</text>\n",
       "<text text-anchor=\"middle\" x=\"639\" y=\"-1294.8\" font-family=\"DejaVu Serif,serif\" font-size=\"14.00\">CokernelObject</text>\n",
       "</g>\n",
       "<!-- 1&#45;&gt;10 -->\n",
       "<g id=\"edge7\" class=\"edge\">\n",
       "<title>1&#45;&gt;10</title>\n",
       "<path fill=\"none\" stroke=\"black\" d=\"M658.21,-1510.99C654.27,-1499.46 650.35,-1486.31 648,-1474 641.12,-1437.88 639.06,-1396.13 638.61,-1365.54\"/>\n",
       "<polygon fill=\"black\" stroke=\"black\" points=\"642.11,-1365.18 638.51,-1355.21 635.11,-1365.25 642.11,-1365.18\"/>\n",
       "<text text-anchor=\"middle\" x=\"652.5\" y=\"-1436.3\" font-family=\"DejaVu Serif,serif\" font-size=\"14.00\">1</text>\n",
       "</g>\n",
       "<!-- 12 -->\n",
       "<g id=\"node12\" class=\"node\">\n",
       "<title>12</title>\n",
       "<polygon fill=\"none\" stroke=\"black\" points=\"840,-1236 724,-1236 724,-1168 840,-1168 840,-1236\"/>\n",
       "<text text-anchor=\"middle\" x=\"782\" y=\"-1220.8\" font-family=\"DejaVu Serif,serif\" font-size=\"14.00\">[12]</text>\n",
       "<text text-anchor=\"middle\" x=\"782\" y=\"-1205.8\" font-family=\"DejaVu Serif,serif\" font-size=\"14.00\">CokernelColift</text>\n",
       "<text text-anchor=\"middle\" x=\"782\" y=\"-1190.8\" font-family=\"DejaVu Serif,serif\" font-size=\"14.00\">WithGiven</text>\n",
       "<text text-anchor=\"middle\" x=\"782\" y=\"-1175.8\" font-family=\"DejaVu Serif,serif\" font-size=\"14.00\">CokernelObject</text>\n",
       "</g>\n",
       "<!-- 1&#45;&gt;12 -->\n",
       "<g id=\"edge11\" class=\"edge\">\n",
       "<title>1&#45;&gt;12</title>\n",
       "<path fill=\"none\" stroke=\"black\" d=\"M711.82,-1516.59C725.82,-1505.09 740.17,-1490.53 749,-1474 787.81,-1401.34 789.14,-1302.43 785.98,-1246.41\"/>\n",
       "<polygon fill=\"black\" stroke=\"black\" points=\"789.46,-1245.88 785.33,-1236.13 782.47,-1246.33 789.46,-1245.88\"/>\n",
       "<text text-anchor=\"middle\" x=\"784.5\" y=\"-1376.8\" font-family=\"DejaVu Serif,serif\" font-size=\"14.00\">1</text>\n",
       "</g>\n",
       "<!-- 2&#45;&gt;10 -->\n",
       "<g id=\"edge8\" class=\"edge\">\n",
       "<title>2&#45;&gt;10</title>\n",
       "<path fill=\"none\" stroke=\"black\" d=\"M688.95,-1413.32C681.07,-1398.91 671.03,-1380.56 662.03,-1364.1\"/>\n",
       "<polygon fill=\"black\" stroke=\"black\" points=\"665.02,-1362.28 657.15,-1355.18 658.88,-1365.63 665.02,-1362.28\"/>\n",
       "<text text-anchor=\"middle\" x=\"679.5\" y=\"-1376.8\" font-family=\"DejaVu Serif,serif\" font-size=\"14.00\">2</text>\n",
       "</g>\n",
       "<!-- 2&#45;&gt;12 -->\n",
       "<g id=\"edge14\" class=\"edge\">\n",
       "<title>2&#45;&gt;12</title>\n",
       "<path fill=\"none\" stroke=\"black\" d=\"M711.6,-1413.29C725.07,-1373.06 751.28,-1294.76 767.64,-1245.89\"/>\n",
       "<polygon fill=\"black\" stroke=\"black\" points=\"771.02,-1246.82 770.88,-1236.23 764.38,-1244.6 771.02,-1246.82\"/>\n",
       "<text text-anchor=\"middle\" x=\"757.5\" y=\"-1317.3\" font-family=\"DejaVu Serif,serif\" font-size=\"14.00\">4</text>\n",
       "</g>\n",
       "<!-- 3 -->\n",
       "<g id=\"node3\" class=\"node\">\n",
       "<title>3</title>\n",
       "<polygon fill=\"none\" stroke=\"black\" points=\"470.5,-1474 389.5,-1474 389.5,-1406 470.5,-1406 470.5,-1474\"/>\n",
       "<text text-anchor=\"middle\" x=\"430\" y=\"-1458.8\" font-family=\"DejaVu Serif,serif\" font-size=\"14.00\">[3]</text>\n",
       "<text text-anchor=\"middle\" x=\"430\" y=\"-1443.8\" font-family=\"DejaVu Serif,serif\" font-size=\"14.00\">primitive</text>\n",
       "<text text-anchor=\"middle\" x=\"430\" y=\"-1428.8\" font-family=\"DejaVu Serif,serif\" font-size=\"14.00\">morphism</text>\n",
       "<text text-anchor=\"middle\" x=\"430\" y=\"-1413.8\" font-family=\"DejaVu Serif,serif\" font-size=\"14.00\">&lt;b&gt;</text>\n",
       "</g>\n",
       "<!-- 5 -->\n",
       "<g id=\"node5\" class=\"node\">\n",
       "<title>5</title>\n",
       "<polygon fill=\"none\" stroke=\"black\" points=\"468,-1347.5 392,-1347.5 392,-1294.5 468,-1294.5 468,-1347.5\"/>\n",
       "<text text-anchor=\"middle\" x=\"430\" y=\"-1332.3\" font-family=\"DejaVu Serif,serif\" font-size=\"14.00\">[5]</text>\n",
       "<text text-anchor=\"middle\" x=\"430\" y=\"-1317.3\" font-family=\"DejaVu Serif,serif\" font-size=\"14.00\">Pre</text>\n",
       "<text text-anchor=\"middle\" x=\"430\" y=\"-1302.3\" font-family=\"DejaVu Serif,serif\" font-size=\"14.00\">Compose</text>\n",
       "</g>\n",
       "<!-- 3&#45;&gt;5 -->\n",
       "<g id=\"edge2\" class=\"edge\">\n",
       "<title>3&#45;&gt;5</title>\n",
       "<path fill=\"none\" stroke=\"black\" d=\"M430,-1405.79C430,-1390.85 430,-1373.2 430,-1357.96\"/>\n",
       "<polygon fill=\"black\" stroke=\"black\" points=\"433.5,-1357.86 430,-1347.86 426.5,-1357.86 433.5,-1357.86\"/>\n",
       "<text text-anchor=\"middle\" x=\"434.5\" y=\"-1376.8\" font-family=\"DejaVu Serif,serif\" font-size=\"14.00\">1</text>\n",
       "</g>\n",
       "<!-- 3&#45;&gt;7 -->\n",
       "<g id=\"edge5\" class=\"edge\">\n",
       "<title>3&#45;&gt;7</title>\n",
       "<path fill=\"none\" stroke=\"black\" d=\"M389.18,-1420.81C373.01,-1412.35 354.98,-1401.21 341,-1388 331.35,-1378.89 322.84,-1367.2 315.99,-1356.19\"/>\n",
       "<polygon fill=\"black\" stroke=\"black\" points=\"318.98,-1354.38 310.86,-1347.58 312.97,-1357.96 318.98,-1354.38\"/>\n",
       "<text text-anchor=\"middle\" x=\"345.5\" y=\"-1376.8\" font-family=\"DejaVu Serif,serif\" font-size=\"14.00\">2</text>\n",
       "</g>\n",
       "<!-- 11 -->\n",
       "<g id=\"node11\" class=\"node\">\n",
       "<title>11</title>\n",
       "<polygon fill=\"none\" stroke=\"black\" points=\"583.5,-1221 514.5,-1221 514.5,-1183 583.5,-1183 583.5,-1221\"/>\n",
       "<text text-anchor=\"middle\" x=\"549\" y=\"-1205.8\" font-family=\"DejaVu Serif,serif\" font-size=\"14.00\">[11]</text>\n",
       "<text text-anchor=\"middle\" x=\"549\" y=\"-1190.8\" font-family=\"DejaVu Serif,serif\" font-size=\"14.00\">Pushout</text>\n",
       "</g>\n",
       "<!-- 3&#45;&gt;11 -->\n",
       "<g id=\"edge10\" class=\"edge\">\n",
       "<title>3&#45;&gt;11</title>\n",
       "<path fill=\"none\" stroke=\"black\" d=\"M470.81,-1421.31C485.22,-1413.14 500.25,-1402.08 510,-1388 543.13,-1340.14 549.08,-1269.82 549.6,-1231.12\"/>\n",
       "<polygon fill=\"black\" stroke=\"black\" points=\"553.1,-1231.09 549.62,-1221.08 546.1,-1231.08 553.1,-1231.09\"/>\n",
       "<text text-anchor=\"middle\" x=\"550.5\" y=\"-1317.3\" font-family=\"DejaVu Serif,serif\" font-size=\"14.00\">2</text>\n",
       "</g>\n",
       "<!-- 16 -->\n",
       "<g id=\"node16\" class=\"node\">\n",
       "<title>16</title>\n",
       "<polygon fill=\"none\" stroke=\"black\" points=\"501,-1117 291,-1117 291,-1064 501,-1064 501,-1117\"/>\n",
       "<text text-anchor=\"middle\" x=\"396\" y=\"-1101.8\" font-family=\"DejaVu Serif,serif\" font-size=\"14.00\">[16]</text>\n",
       "<text text-anchor=\"middle\" x=\"396\" y=\"-1086.8\" font-family=\"DejaVu Serif,serif\" font-size=\"14.00\">InjectionOfCofactorOfPushout</text>\n",
       "<text text-anchor=\"middle\" x=\"396\" y=\"-1071.8\" font-family=\"DejaVu Serif,serif\" font-size=\"14.00\">WithGivenPushout( 2 )</text>\n",
       "</g>\n",
       "<!-- 3&#45;&gt;16 -->\n",
       "<g id=\"edge22\" class=\"edge\">\n",
       "<title>3&#45;&gt;16</title>\n",
       "<path fill=\"none\" stroke=\"black\" d=\"M389.4,-1406.21C384.77,-1400.64 380.74,-1394.53 378,-1388 341.08,-1300.08 366.88,-1184.49 384.06,-1127.07\"/>\n",
       "<polygon fill=\"black\" stroke=\"black\" points=\"387.45,-1127.96 387.05,-1117.37 380.76,-1125.9 387.45,-1127.96\"/>\n",
       "<text text-anchor=\"middle\" x=\"365.5\" y=\"-1257.8\" font-family=\"DejaVu Serif,serif\" font-size=\"14.00\">2</text>\n",
       "</g>\n",
       "<!-- 18 -->\n",
       "<g id=\"node18\" class=\"node\">\n",
       "<title>18</title>\n",
       "<polygon fill=\"none\" stroke=\"black\" points=\"732,-1117 522,-1117 522,-1064 732,-1064 732,-1117\"/>\n",
       "<text text-anchor=\"middle\" x=\"627\" y=\"-1101.8\" font-family=\"DejaVu Serif,serif\" font-size=\"14.00\">[18]</text>\n",
       "<text text-anchor=\"middle\" x=\"627\" y=\"-1086.8\" font-family=\"DejaVu Serif,serif\" font-size=\"14.00\">InjectionOfCofactorOfPushout</text>\n",
       "<text text-anchor=\"middle\" x=\"627\" y=\"-1071.8\" font-family=\"DejaVu Serif,serif\" font-size=\"14.00\">WithGivenPushout( 1 )</text>\n",
       "</g>\n",
       "<!-- 3&#45;&gt;18 -->\n",
       "<g id=\"edge27\" class=\"edge\">\n",
       "<title>3&#45;&gt;18</title>\n",
       "<path fill=\"none\" stroke=\"black\" d=\"M452.14,-1405.98C461.19,-1391 470.95,-1372.71 477,-1355 504.18,-1275.48 458.97,-1238.31 505,-1168 517.47,-1148.95 536.5,-1133.78 555.85,-1122.13\"/>\n",
       "<polygon fill=\"black\" stroke=\"black\" points=\"557.81,-1125.04 564.74,-1117.03 554.33,-1118.97 557.81,-1125.04\"/>\n",
       "<text text-anchor=\"middle\" x=\"489.5\" y=\"-1257.8\" font-family=\"DejaVu Serif,serif\" font-size=\"14.00\">2</text>\n",
       "</g>\n",
       "<!-- 4 -->\n",
       "<g id=\"node4\" class=\"node\">\n",
       "<title>4</title>\n",
       "<polygon fill=\"none\" stroke=\"black\" points=\"236.5,-1474 155.5,-1474 155.5,-1406 236.5,-1406 236.5,-1474\"/>\n",
       "<text text-anchor=\"middle\" x=\"196\" y=\"-1458.8\" font-family=\"DejaVu Serif,serif\" font-size=\"14.00\">[4]</text>\n",
       "<text text-anchor=\"middle\" x=\"196\" y=\"-1443.8\" font-family=\"DejaVu Serif,serif\" font-size=\"14.00\">primitive</text>\n",
       "<text text-anchor=\"middle\" x=\"196\" y=\"-1428.8\" font-family=\"DejaVu Serif,serif\" font-size=\"14.00\">morphism</text>\n",
       "<text text-anchor=\"middle\" x=\"196\" y=\"-1413.8\" font-family=\"DejaVu Serif,serif\" font-size=\"14.00\">&lt;c&gt;</text>\n",
       "</g>\n",
       "<!-- 4&#45;&gt;5 -->\n",
       "<g id=\"edge3\" class=\"edge\">\n",
       "<title>4&#45;&gt;5</title>\n",
       "<path fill=\"none\" stroke=\"black\" d=\"M236.53,-1421.54C249.91,-1416.14 264.96,-1410.45 279,-1406 311.68,-1395.64 323.52,-1403.69 354,-1388 370.5,-1379.51 386.38,-1366.71 399.32,-1354.64\"/>\n",
       "<polygon fill=\"black\" stroke=\"black\" points=\"401.81,-1357.11 406.59,-1347.65 396.95,-1352.06 401.81,-1357.11\"/>\n",
       "<text text-anchor=\"middle\" x=\"382.5\" y=\"-1376.8\" font-family=\"DejaVu Serif,serif\" font-size=\"14.00\">2</text>\n",
       "</g>\n",
       "<!-- 9 -->\n",
       "<g id=\"node9\" class=\"node\">\n",
       "<title>9</title>\n",
       "<polygon fill=\"none\" stroke=\"black\" points=\"196.5,-1347.5 137.5,-1347.5 137.5,-1294.5 196.5,-1294.5 196.5,-1347.5\"/>\n",
       "<text text-anchor=\"middle\" x=\"167\" y=\"-1332.3\" font-family=\"DejaVu Serif,serif\" font-size=\"14.00\">[9]</text>\n",
       "<text text-anchor=\"middle\" x=\"167\" y=\"-1317.3\" font-family=\"DejaVu Serif,serif\" font-size=\"14.00\">Kernel</text>\n",
       "<text text-anchor=\"middle\" x=\"167\" y=\"-1302.3\" font-family=\"DejaVu Serif,serif\" font-size=\"14.00\">Object</text>\n",
       "</g>\n",
       "<!-- 4&#45;&gt;9 -->\n",
       "<g id=\"edge6\" class=\"edge\">\n",
       "<title>4&#45;&gt;9</title>\n",
       "<path fill=\"none\" stroke=\"black\" d=\"M187.77,-1405.79C184.07,-1390.85 179.69,-1373.2 175.91,-1357.96\"/>\n",
       "<polygon fill=\"black\" stroke=\"black\" points=\"179.21,-1356.72 173.41,-1347.86 172.42,-1358.41 179.21,-1356.72\"/>\n",
       "</g>\n",
       "<!-- 14 -->\n",
       "<g id=\"node14\" class=\"node\">\n",
       "<title>14</title>\n",
       "<polygon fill=\"none\" stroke=\"black\" points=\"166.5,-1236 65.5,-1236 65.5,-1168 166.5,-1168 166.5,-1236\"/>\n",
       "<text text-anchor=\"middle\" x=\"116\" y=\"-1220.8\" font-family=\"DejaVu Serif,serif\" font-size=\"14.00\">[14]</text>\n",
       "<text text-anchor=\"middle\" x=\"116\" y=\"-1205.8\" font-family=\"DejaVu Serif,serif\" font-size=\"14.00\">KernelLift</text>\n",
       "<text text-anchor=\"middle\" x=\"116\" y=\"-1190.8\" font-family=\"DejaVu Serif,serif\" font-size=\"14.00\">WithGiven</text>\n",
       "<text text-anchor=\"middle\" x=\"116\" y=\"-1175.8\" font-family=\"DejaVu Serif,serif\" font-size=\"14.00\">KernelObject</text>\n",
       "</g>\n",
       "<!-- 4&#45;&gt;14 -->\n",
       "<g id=\"edge16\" class=\"edge\">\n",
       "<title>4&#45;&gt;14</title>\n",
       "<path fill=\"none\" stroke=\"black\" d=\"M155.29,-1405.93C141.06,-1391.88 126.72,-1374.28 119,-1355 105.12,-1320.33 105.67,-1277.54 108.93,-1246.21\"/>\n",
       "<polygon fill=\"black\" stroke=\"black\" points=\"112.44,-1246.39 110.13,-1236.05 105.48,-1245.57 112.44,-1246.39\"/>\n",
       "<text text-anchor=\"middle\" x=\"123.5\" y=\"-1317.3\" font-family=\"DejaVu Serif,serif\" font-size=\"14.00\">1</text>\n",
       "</g>\n",
       "<!-- 17 -->\n",
       "<g id=\"node17\" class=\"node\">\n",
       "<title>17</title>\n",
       "<polygon fill=\"none\" stroke=\"black\" points=\"317,-1236 185,-1236 185,-1168 317,-1168 317,-1236\"/>\n",
       "<text text-anchor=\"middle\" x=\"251\" y=\"-1220.8\" font-family=\"DejaVu Serif,serif\" font-size=\"14.00\">[17]</text>\n",
       "<text text-anchor=\"middle\" x=\"251\" y=\"-1205.8\" font-family=\"DejaVu Serif,serif\" font-size=\"14.00\">KernelEmbedding</text>\n",
       "<text text-anchor=\"middle\" x=\"251\" y=\"-1190.8\" font-family=\"DejaVu Serif,serif\" font-size=\"14.00\">WithGiven</text>\n",
       "<text text-anchor=\"middle\" x=\"251\" y=\"-1175.8\" font-family=\"DejaVu Serif,serif\" font-size=\"14.00\">KernelObject</text>\n",
       "</g>\n",
       "<!-- 4&#45;&gt;17 -->\n",
       "<g id=\"edge24\" class=\"edge\">\n",
       "<title>4&#45;&gt;17</title>\n",
       "<path fill=\"none\" stroke=\"black\" d=\"M203.71,-1405.94C213.44,-1364.19 230.2,-1292.26 240.93,-1246.2\"/>\n",
       "<polygon fill=\"black\" stroke=\"black\" points=\"244.4,-1246.75 243.26,-1236.22 237.58,-1245.16 244.4,-1246.75\"/>\n",
       "<text text-anchor=\"middle\" x=\"235.5\" y=\"-1317.3\" font-family=\"DejaVu Serif,serif\" font-size=\"14.00\">1</text>\n",
       "</g>\n",
       "<!-- 5&#45;&gt;12 -->\n",
       "<g id=\"edge13\" class=\"edge\">\n",
       "<title>5&#45;&gt;12</title>\n",
       "<path fill=\"none\" stroke=\"black\" d=\"M468.04,-1299.27C496.47,-1284.6 536.7,-1265.56 574,-1254 618.81,-1240.11 632.43,-1247.12 678,-1236 689.72,-1233.14 702.04,-1229.66 713.94,-1226.05\"/>\n",
       "<polygon fill=\"black\" stroke=\"black\" points=\"715.3,-1229.29 723.82,-1222.99 713.23,-1222.61 715.3,-1229.29\"/>\n",
       "<text text-anchor=\"middle\" x=\"578.5\" y=\"-1257.8\" font-family=\"DejaVu Serif,serif\" font-size=\"14.00\">3</text>\n",
       "</g>\n",
       "<!-- 6 -->\n",
       "<g id=\"node6\" class=\"node\">\n",
       "<title>6</title>\n",
       "<polygon fill=\"none\" stroke=\"black\" points=\"884,-1355 810,-1355 810,-1287 884,-1287 884,-1355\"/>\n",
       "<text text-anchor=\"middle\" x=\"847\" y=\"-1339.8\" font-family=\"DejaVu Serif,serif\" font-size=\"14.00\">[6]</text>\n",
       "<text text-anchor=\"middle\" x=\"847\" y=\"-1324.8\" font-family=\"DejaVu Serif,serif\" font-size=\"14.00\">primitive</text>\n",
       "<text text-anchor=\"middle\" x=\"847\" y=\"-1309.8\" font-family=\"DejaVu Serif,serif\" font-size=\"14.00\">object</text>\n",
       "<text text-anchor=\"middle\" x=\"847\" y=\"-1294.8\" font-family=\"DejaVu Serif,serif\" font-size=\"14.00\">&lt;4&gt;</text>\n",
       "</g>\n",
       "<!-- 6&#45;&gt;12 -->\n",
       "<g id=\"edge12\" class=\"edge\">\n",
       "<title>6&#45;&gt;12</title>\n",
       "<path fill=\"none\" stroke=\"black\" d=\"M828.55,-1286.79C821.34,-1273.82 813,-1258.8 805.38,-1245.08\"/>\n",
       "<polygon fill=\"black\" stroke=\"black\" points=\"808.41,-1243.34 800.5,-1236.3 802.3,-1246.74 808.41,-1243.34\"/>\n",
       "<text text-anchor=\"middle\" x=\"822.5\" y=\"-1257.8\" font-family=\"DejaVu Serif,serif\" font-size=\"14.00\">2</text>\n",
       "</g>\n",
       "<!-- 7&#45;&gt;14 -->\n",
       "<g id=\"edge18\" class=\"edge\">\n",
       "<title>7&#45;&gt;14</title>\n",
       "<path fill=\"none\" stroke=\"black\" d=\"M273.42,-1294.33C259.58,-1280.96 241.41,-1265.13 223,-1254 203.86,-1242.43 196.29,-1245.41 176,-1236 175.91,-1235.96 175.81,-1235.91 175.72,-1235.87\"/>\n",
       "<polygon fill=\"black\" stroke=\"black\" points=\"177.34,-1232.77 166.82,-1231.57 174.3,-1239.07 177.34,-1232.77\"/>\n",
       "<text text-anchor=\"middle\" x=\"248.5\" y=\"-1257.8\" font-family=\"DejaVu Serif,serif\" font-size=\"14.00\">3</text>\n",
       "</g>\n",
       "<!-- 8 -->\n",
       "<g id=\"node8\" class=\"node\">\n",
       "<title>8</title>\n",
       "<polygon fill=\"none\" stroke=\"black\" points=\"74,-1355 0,-1355 0,-1287 74,-1287 74,-1355\"/>\n",
       "<text text-anchor=\"middle\" x=\"37\" y=\"-1339.8\" font-family=\"DejaVu Serif,serif\" font-size=\"14.00\">[8]</text>\n",
       "<text text-anchor=\"middle\" x=\"37\" y=\"-1324.8\" font-family=\"DejaVu Serif,serif\" font-size=\"14.00\">primitive</text>\n",
       "<text text-anchor=\"middle\" x=\"37\" y=\"-1309.8\" font-family=\"DejaVu Serif,serif\" font-size=\"14.00\">object</text>\n",
       "<text text-anchor=\"middle\" x=\"37\" y=\"-1294.8\" font-family=\"DejaVu Serif,serif\" font-size=\"14.00\">&lt;1&gt;</text>\n",
       "</g>\n",
       "<!-- 8&#45;&gt;14 -->\n",
       "<g id=\"edge17\" class=\"edge\">\n",
       "<title>8&#45;&gt;14</title>\n",
       "<path fill=\"none\" stroke=\"black\" d=\"M59.43,-1286.79C68.27,-1273.69 78.52,-1258.51 87.85,-1244.69\"/>\n",
       "<polygon fill=\"black\" stroke=\"black\" points=\"90.82,-1246.54 93.52,-1236.3 85.02,-1242.63 90.82,-1246.54\"/>\n",
       "<text text-anchor=\"middle\" x=\"86.5\" y=\"-1257.8\" font-family=\"DejaVu Serif,serif\" font-size=\"14.00\">2</text>\n",
       "</g>\n",
       "<!-- 9&#45;&gt;14 -->\n",
       "<g id=\"edge19\" class=\"edge\">\n",
       "<title>9&#45;&gt;14</title>\n",
       "<path fill=\"none\" stroke=\"black\" d=\"M155.81,-1294.32C149.58,-1280.04 141.67,-1261.9 134.55,-1245.55\"/>\n",
       "<polygon fill=\"black\" stroke=\"black\" points=\"137.67,-1243.95 130.46,-1236.18 131.25,-1246.75 137.67,-1243.95\"/>\n",
       "<text text-anchor=\"middle\" x=\"149.5\" y=\"-1257.8\" font-family=\"DejaVu Serif,serif\" font-size=\"14.00\">4</text>\n",
       "</g>\n",
       "<!-- 9&#45;&gt;17 -->\n",
       "<g id=\"edge25\" class=\"edge\">\n",
       "<title>9&#45;&gt;17</title>\n",
       "<path fill=\"none\" stroke=\"black\" d=\"M182.96,-1294.21C190.82,-1281.85 200.61,-1266.95 210,-1254 212.33,-1250.78 214.8,-1247.49 217.31,-1244.2\"/>\n",
       "<polygon fill=\"black\" stroke=\"black\" points=\"220.23,-1246.14 223.61,-1236.1 214.71,-1241.85 220.23,-1246.14\"/>\n",
       "<text text-anchor=\"middle\" x=\"214.5\" y=\"-1257.8\" font-family=\"DejaVu Serif,serif\" font-size=\"14.00\">2</text>\n",
       "</g>\n",
       "<!-- 10&#45;&gt;11 -->\n",
       "<g id=\"edge9\" class=\"edge\">\n",
       "<title>10&#45;&gt;11</title>\n",
       "<path fill=\"none\" stroke=\"black\" d=\"M611.15,-1286.76C606.37,-1280.89 601.49,-1274.8 597,-1269 587.09,-1256.2 576.46,-1241.68 567.73,-1229.52\"/>\n",
       "<polygon fill=\"black\" stroke=\"black\" points=\"570.41,-1227.25 561.75,-1221.14 564.72,-1231.32 570.41,-1227.25\"/>\n",
       "<text text-anchor=\"middle\" x=\"601.5\" y=\"-1257.8\" font-family=\"DejaVu Serif,serif\" font-size=\"14.00\">1</text>\n",
       "</g>\n",
       "<!-- 10&#45;&gt;16 -->\n",
       "<g id=\"edge21\" class=\"edge\">\n",
       "<title>10&#45;&gt;16</title>\n",
       "<path fill=\"none\" stroke=\"black\" d=\"M632.29,-1286.92C623.74,-1247.67 608.13,-1185.34 592,-1168 570.28,-1144.65 540.58,-1128.33 510.87,-1116.96\"/>\n",
       "<polygon fill=\"black\" stroke=\"black\" points=\"511.83,-1113.58 501.23,-1113.44 509.42,-1120.16 511.83,-1113.58\"/>\n",
       "<text text-anchor=\"middle\" x=\"624.5\" y=\"-1198.3\" font-family=\"DejaVu Serif,serif\" font-size=\"14.00\">1</text>\n",
       "</g>\n",
       "<!-- 10&#45;&gt;18 -->\n",
       "<g id=\"edge26\" class=\"edge\">\n",
       "<title>10&#45;&gt;18</title>\n",
       "<path fill=\"none\" stroke=\"black\" d=\"M638.06,-1286.77C637.1,-1255.97 635.41,-1208.86 633,-1168 632.22,-1154.8 631.15,-1140.35 630.12,-1127.59\"/>\n",
       "<polygon fill=\"black\" stroke=\"black\" points=\"633.58,-1127.01 629.28,-1117.33 626.61,-1127.59 633.58,-1127.01\"/>\n",
       "<text text-anchor=\"middle\" x=\"641.5\" y=\"-1198.3\" font-family=\"DejaVu Serif,serif\" font-size=\"14.00\">1</text>\n",
       "</g>\n",
       "<!-- 11&#45;&gt;16 -->\n",
       "<g id=\"edge23\" class=\"edge\">\n",
       "<title>11&#45;&gt;16</title>\n",
       "<path fill=\"none\" stroke=\"black\" d=\"M523.74,-1182.92C501.04,-1166.68 467.22,-1142.47 440.08,-1123.05\"/>\n",
       "<polygon fill=\"black\" stroke=\"black\" points=\"442.06,-1120.16 431.89,-1117.19 437.99,-1125.85 442.06,-1120.16\"/>\n",
       "<text text-anchor=\"middle\" x=\"482.5\" y=\"-1138.8\" font-family=\"DejaVu Serif,serif\" font-size=\"14.00\">3</text>\n",
       "</g>\n",
       "<!-- 11&#45;&gt;18 -->\n",
       "<g id=\"edge28\" class=\"edge\">\n",
       "<title>11&#45;&gt;18</title>\n",
       "<path fill=\"none\" stroke=\"black\" d=\"M561.88,-1182.92C572.91,-1167.43 589.1,-1144.7 602.58,-1125.78\"/>\n",
       "<polygon fill=\"black\" stroke=\"black\" points=\"605.6,-1127.57 608.56,-1117.39 599.9,-1123.51 605.6,-1127.57\"/>\n",
       "<text text-anchor=\"middle\" x=\"599.5\" y=\"-1138.8\" font-family=\"DejaVu Serif,serif\" font-size=\"14.00\">3</text>\n",
       "</g>\n",
       "<!-- 13 -->\n",
       "<g id=\"node13\" class=\"node\">\n",
       "<title>13</title>\n",
       "<polygon fill=\"none\" stroke=\"black\" points=\"809.5,-1117 750.5,-1117 750.5,-1064 809.5,-1064 809.5,-1117\"/>\n",
       "<text text-anchor=\"middle\" x=\"780\" y=\"-1101.8\" font-family=\"DejaVu Serif,serif\" font-size=\"14.00\">[13]</text>\n",
       "<text text-anchor=\"middle\" x=\"780\" y=\"-1086.8\" font-family=\"DejaVu Serif,serif\" font-size=\"14.00\">Kernel</text>\n",
       "<text text-anchor=\"middle\" x=\"780\" y=\"-1071.8\" font-family=\"DejaVu Serif,serif\" font-size=\"14.00\">Object</text>\n",
       "</g>\n",
       "<!-- 12&#45;&gt;13 -->\n",
       "<g id=\"edge15\" class=\"edge\">\n",
       "<title>12&#45;&gt;13</title>\n",
       "<path fill=\"none\" stroke=\"black\" d=\"M781.39,-1167.85C781.16,-1155.03 780.89,-1140.34 780.65,-1127.29\"/>\n",
       "<polygon fill=\"black\" stroke=\"black\" points=\"784.15,-1127.17 780.47,-1117.24 777.15,-1127.3 784.15,-1127.17\"/>\n",
       "</g>\n",
       "<!-- 19 -->\n",
       "<g id=\"node19\" class=\"node\">\n",
       "<title>19</title>\n",
       "<polygon fill=\"none\" stroke=\"black\" points=\"846,-1013 714,-1013 714,-945 846,-945 846,-1013\"/>\n",
       "<text text-anchor=\"middle\" x=\"780\" y=\"-997.8\" font-family=\"DejaVu Serif,serif\" font-size=\"14.00\">[19]</text>\n",
       "<text text-anchor=\"middle\" x=\"780\" y=\"-982.8\" font-family=\"DejaVu Serif,serif\" font-size=\"14.00\">KernelEmbedding</text>\n",
       "<text text-anchor=\"middle\" x=\"780\" y=\"-967.8\" font-family=\"DejaVu Serif,serif\" font-size=\"14.00\">WithGiven</text>\n",
       "<text text-anchor=\"middle\" x=\"780\" y=\"-952.8\" font-family=\"DejaVu Serif,serif\" font-size=\"14.00\">KernelObject</text>\n",
       "</g>\n",
       "<!-- 12&#45;&gt;19 -->\n",
       "<g id=\"edge29\" class=\"edge\">\n",
       "<title>12&#45;&gt;19</title>\n",
       "<path fill=\"none\" stroke=\"black\" d=\"M800.46,-1167.74C807.78,-1152.73 815.32,-1134.46 819,-1117 823.85,-1093.95 824.08,-1087 819,-1064 815.88,-1049.85 810.12,-1035.25 803.97,-1022.28\"/>\n",
       "<polygon fill=\"black\" stroke=\"black\" points=\"807.02,-1020.56 799.45,-1013.14 800.75,-1023.66 807.02,-1020.56\"/>\n",
       "<text text-anchor=\"middle\" x=\"826.5\" y=\"-1086.8\" font-family=\"DejaVu Serif,serif\" font-size=\"14.00\">1</text>\n",
       "</g>\n",
       "<!-- 13&#45;&gt;19 -->\n",
       "<g id=\"edge30\" class=\"edge\">\n",
       "<title>13&#45;&gt;19</title>\n",
       "<path fill=\"none\" stroke=\"black\" d=\"M780,-1063.83C780,-1051.84 780,-1037.23 780,-1023.59\"/>\n",
       "<polygon fill=\"black\" stroke=\"black\" points=\"783.5,-1023.4 780,-1013.4 776.5,-1023.4 783.5,-1023.4\"/>\n",
       "<text text-anchor=\"middle\" x=\"784.5\" y=\"-1034.8\" font-family=\"DejaVu Serif,serif\" font-size=\"14.00\">2</text>\n",
       "</g>\n",
       "<!-- 15 -->\n",
       "<g id=\"node15\" class=\"node\">\n",
       "<title>15</title>\n",
       "<polygon fill=\"none\" stroke=\"black\" points=\"153,-1117 79,-1117 79,-1064 153,-1064 153,-1117\"/>\n",
       "<text text-anchor=\"middle\" x=\"116\" y=\"-1101.8\" font-family=\"DejaVu Serif,serif\" font-size=\"14.00\">[15]</text>\n",
       "<text text-anchor=\"middle\" x=\"116\" y=\"-1086.8\" font-family=\"DejaVu Serif,serif\" font-size=\"14.00\">Cokernel</text>\n",
       "<text text-anchor=\"middle\" x=\"116\" y=\"-1071.8\" font-family=\"DejaVu Serif,serif\" font-size=\"14.00\">Object</text>\n",
       "</g>\n",
       "<!-- 14&#45;&gt;15 -->\n",
       "<g id=\"edge20\" class=\"edge\">\n",
       "<title>14&#45;&gt;15</title>\n",
       "<path fill=\"none\" stroke=\"black\" d=\"M116,-1167.85C116,-1155.03 116,-1140.34 116,-1127.29\"/>\n",
       "<polygon fill=\"black\" stroke=\"black\" points=\"119.5,-1127.24 116,-1117.24 112.5,-1127.24 119.5,-1127.24\"/>\n",
       "</g>\n",
       "<!-- 21 -->\n",
       "<g id=\"node21\" class=\"node\">\n",
       "<title>21</title>\n",
       "<polygon fill=\"none\" stroke=\"black\" points=\"258.5,-1013 119.5,-1013 119.5,-945 258.5,-945 258.5,-1013\"/>\n",
       "<text text-anchor=\"middle\" x=\"189\" y=\"-997.8\" font-family=\"DejaVu Serif,serif\" font-size=\"14.00\">[21]</text>\n",
       "<text text-anchor=\"middle\" x=\"189\" y=\"-982.8\" font-family=\"DejaVu Serif,serif\" font-size=\"14.00\">CokernelProjection</text>\n",
       "<text text-anchor=\"middle\" x=\"189\" y=\"-967.8\" font-family=\"DejaVu Serif,serif\" font-size=\"14.00\">WithGiven</text>\n",
       "<text text-anchor=\"middle\" x=\"189\" y=\"-952.8\" font-family=\"DejaVu Serif,serif\" font-size=\"14.00\">CokernelObject</text>\n",
       "</g>\n",
       "<!-- 14&#45;&gt;21 -->\n",
       "<g id=\"edge33\" class=\"edge\">\n",
       "<title>14&#45;&gt;21</title>\n",
       "<path fill=\"none\" stroke=\"black\" d=\"M137.27,-1167.78C146.05,-1152.77 155.65,-1134.51 162,-1117 173.03,-1086.59 179.89,-1050.65 183.94,-1023.22\"/>\n",
       "<polygon fill=\"black\" stroke=\"black\" points=\"187.43,-1023.54 185.36,-1013.15 180.5,-1022.56 187.43,-1023.54\"/>\n",
       "<text text-anchor=\"middle\" x=\"181.5\" y=\"-1086.8\" font-family=\"DejaVu Serif,serif\" font-size=\"14.00\">1</text>\n",
       "</g>\n",
       "<!-- 15&#45;&gt;21 -->\n",
       "<g id=\"edge34\" class=\"edge\">\n",
       "<title>15&#45;&gt;21</title>\n",
       "<path fill=\"none\" stroke=\"black\" d=\"M133.12,-1063.83C141.42,-1051.37 151.61,-1036.08 161.01,-1021.99\"/>\n",
       "<polygon fill=\"black\" stroke=\"black\" points=\"164.1,-1023.66 166.73,-1013.4 158.27,-1019.78 164.1,-1023.66\"/>\n",
       "<text text-anchor=\"middle\" x=\"159.5\" y=\"-1034.8\" font-family=\"DejaVu Serif,serif\" font-size=\"14.00\">2</text>\n",
       "</g>\n",
       "<!-- 20 -->\n",
       "<g id=\"node20\" class=\"node\">\n",
       "<title>20</title>\n",
       "<polygon fill=\"none\" stroke=\"black\" points=\"422,-1005.5 346,-1005.5 346,-952.5 422,-952.5 422,-1005.5\"/>\n",
       "<text text-anchor=\"middle\" x=\"384\" y=\"-990.3\" font-family=\"DejaVu Serif,serif\" font-size=\"14.00\">[20]</text>\n",
       "<text text-anchor=\"middle\" x=\"384\" y=\"-975.3\" font-family=\"DejaVu Serif,serif\" font-size=\"14.00\">Pre</text>\n",
       "<text text-anchor=\"middle\" x=\"384\" y=\"-960.3\" font-family=\"DejaVu Serif,serif\" font-size=\"14.00\">Compose</text>\n",
       "</g>\n",
       "<!-- 16&#45;&gt;20 -->\n",
       "<g id=\"edge32\" class=\"edge\">\n",
       "<title>16&#45;&gt;20</title>\n",
       "<path fill=\"none\" stroke=\"black\" d=\"M393.19,-1063.83C391.62,-1049.55 389.65,-1031.55 387.93,-1015.9\"/>\n",
       "<polygon fill=\"black\" stroke=\"black\" points=\"391.36,-1015.07 386.8,-1005.51 384.41,-1015.83 391.36,-1015.07\"/>\n",
       "<text text-anchor=\"middle\" x=\"396.5\" y=\"-1034.8\" font-family=\"DejaVu Serif,serif\" font-size=\"14.00\">2</text>\n",
       "</g>\n",
       "<!-- 17&#45;&gt;20 -->\n",
       "<g id=\"edge31\" class=\"edge\">\n",
       "<title>17&#45;&gt;20</title>\n",
       "<path fill=\"none\" stroke=\"black\" d=\"M249.6,-1167.94C249.84,-1138.64 253.95,-1095.69 273,-1064 288.23,-1038.65 314.26,-1018.34 337.29,-1004.05\"/>\n",
       "<polygon fill=\"black\" stroke=\"black\" points=\"339.16,-1007.01 345.94,-998.87 335.56,-1001 339.16,-1007.01\"/>\n",
       "<text text-anchor=\"middle\" x=\"277.5\" y=\"-1086.8\" font-family=\"DejaVu Serif,serif\" font-size=\"14.00\">1</text>\n",
       "</g>\n",
       "<!-- 24 -->\n",
       "<g id=\"node24\" class=\"node\">\n",
       "<title>24</title>\n",
       "<polygon fill=\"none\" stroke=\"black\" points=\"665,-894 589,-894 589,-841 665,-841 665,-894\"/>\n",
       "<text text-anchor=\"middle\" x=\"627\" y=\"-878.8\" font-family=\"DejaVu Serif,serif\" font-size=\"14.00\">[24]</text>\n",
       "<text text-anchor=\"middle\" x=\"627\" y=\"-863.8\" font-family=\"DejaVu Serif,serif\" font-size=\"14.00\">Pre</text>\n",
       "<text text-anchor=\"middle\" x=\"627\" y=\"-848.8\" font-family=\"DejaVu Serif,serif\" font-size=\"14.00\">Compose</text>\n",
       "</g>\n",
       "<!-- 18&#45;&gt;24 -->\n",
       "<g id=\"edge41\" class=\"edge\">\n",
       "<title>18&#45;&gt;24</title>\n",
       "<path fill=\"none\" stroke=\"black\" d=\"M627,-1063.72C627,-1024.29 627,-948.91 627,-904.24\"/>\n",
       "<polygon fill=\"black\" stroke=\"black\" points=\"630.5,-904.12 627,-894.12 623.5,-904.12 630.5,-904.12\"/>\n",
       "<text text-anchor=\"middle\" x=\"631.5\" y=\"-975.3\" font-family=\"DejaVu Serif,serif\" font-size=\"14.00\">2</text>\n",
       "</g>\n",
       "<!-- 19&#45;&gt;24 -->\n",
       "<g id=\"edge40\" class=\"edge\">\n",
       "<title>19&#45;&gt;24</title>\n",
       "<path fill=\"none\" stroke=\"black\" d=\"M733.68,-944.85C713.82,-930.64 690.74,-914.12 671.13,-900.08\"/>\n",
       "<polygon fill=\"black\" stroke=\"black\" points=\"673.13,-897.21 662.96,-894.24 669.06,-902.9 673.13,-897.21\"/>\n",
       "<text text-anchor=\"middle\" x=\"713.5\" y=\"-915.8\" font-family=\"DejaVu Serif,serif\" font-size=\"14.00\">1</text>\n",
       "</g>\n",
       "<!-- 22 -->\n",
       "<g id=\"node22\" class=\"node\">\n",
       "<title>22</title>\n",
       "<polygon fill=\"none\" stroke=\"black\" points=\"347.5,-886.5 278.5,-886.5 278.5,-848.5 347.5,-848.5 347.5,-886.5\"/>\n",
       "<text text-anchor=\"middle\" x=\"313\" y=\"-871.3\" font-family=\"DejaVu Serif,serif\" font-size=\"14.00\">[22]</text>\n",
       "<text text-anchor=\"middle\" x=\"313\" y=\"-856.3\" font-family=\"DejaVu Serif,serif\" font-size=\"14.00\">Pushout</text>\n",
       "</g>\n",
       "<!-- 20&#45;&gt;22 -->\n",
       "<g id=\"edge35\" class=\"edge\">\n",
       "<title>20&#45;&gt;22</title>\n",
       "<path fill=\"none\" stroke=\"black\" d=\"M367.35,-952.33C356.25,-935.21 341.69,-912.75 330.43,-895.39\"/>\n",
       "<polygon fill=\"black\" stroke=\"black\" points=\"333.26,-893.31 324.88,-886.83 327.39,-897.12 333.26,-893.31\"/>\n",
       "<text text-anchor=\"middle\" x=\"355.5\" y=\"-915.8\" font-family=\"DejaVu Serif,serif\" font-size=\"14.00\">1</text>\n",
       "</g>\n",
       "<!-- 23 -->\n",
       "<g id=\"node23\" class=\"node\">\n",
       "<title>23</title>\n",
       "<polygon fill=\"none\" stroke=\"black\" points=\"465,-790 255,-790 255,-737 465,-737 465,-790\"/>\n",
       "<text text-anchor=\"middle\" x=\"360\" y=\"-774.8\" font-family=\"DejaVu Serif,serif\" font-size=\"14.00\">[23]</text>\n",
       "<text text-anchor=\"middle\" x=\"360\" y=\"-759.8\" font-family=\"DejaVu Serif,serif\" font-size=\"14.00\">InjectionOfCofactorOfPushout</text>\n",
       "<text text-anchor=\"middle\" x=\"360\" y=\"-744.8\" font-family=\"DejaVu Serif,serif\" font-size=\"14.00\">WithGivenPushout( 1 )</text>\n",
       "</g>\n",
       "<!-- 20&#45;&gt;23 -->\n",
       "<g id=\"edge37\" class=\"edge\">\n",
       "<title>20&#45;&gt;23</title>\n",
       "<path fill=\"none\" stroke=\"black\" d=\"M381.11,-952.25C376.83,-914.23 368.82,-842.98 363.99,-800.03\"/>\n",
       "<polygon fill=\"black\" stroke=\"black\" points=\"367.46,-799.56 362.87,-790.01 360.51,-800.34 367.46,-799.56\"/>\n",
       "<text text-anchor=\"middle\" x=\"379.5\" y=\"-863.8\" font-family=\"DejaVu Serif,serif\" font-size=\"14.00\">1</text>\n",
       "</g>\n",
       "<!-- 26 -->\n",
       "<g id=\"node26\" class=\"node\">\n",
       "<title>26</title>\n",
       "<polygon fill=\"none\" stroke=\"black\" points=\"332,-719 122,-719 122,-666 332,-666 332,-719\"/>\n",
       "<text text-anchor=\"middle\" x=\"227\" y=\"-703.8\" font-family=\"DejaVu Serif,serif\" font-size=\"14.00\">[26]</text>\n",
       "<text text-anchor=\"middle\" x=\"227\" y=\"-688.8\" font-family=\"DejaVu Serif,serif\" font-size=\"14.00\">InjectionOfCofactorOfPushout</text>\n",
       "<text text-anchor=\"middle\" x=\"227\" y=\"-673.8\" font-family=\"DejaVu Serif,serif\" font-size=\"14.00\">WithGivenPushout( 2 )</text>\n",
       "</g>\n",
       "<!-- 20&#45;&gt;26 -->\n",
       "<g id=\"edge44\" class=\"edge\">\n",
       "<title>20&#45;&gt;26</title>\n",
       "<path fill=\"none\" stroke=\"black\" d=\"M408.87,-952.17C451.72,-904.55 529.73,-801.88 474,-737 456.72,-716.88 382.13,-723.57 356,-719 351.51,-718.21 346.95,-717.4 342.33,-716.56\"/>\n",
       "<polygon fill=\"black\" stroke=\"black\" points=\"342.65,-713.06 332.18,-714.69 341.38,-719.94 342.65,-713.06\"/>\n",
       "<text text-anchor=\"middle\" x=\"487.5\" y=\"-863.8\" font-family=\"DejaVu Serif,serif\" font-size=\"14.00\">1</text>\n",
       "</g>\n",
       "<!-- 21&#45;&gt;22 -->\n",
       "<g id=\"edge36\" class=\"edge\">\n",
       "<title>21&#45;&gt;22</title>\n",
       "<path fill=\"none\" stroke=\"black\" d=\"M242.82,-944.79C250.55,-939.2 258.18,-933.2 265,-927 275.59,-917.38 285.86,-905.36 294.16,-894.72\"/>\n",
       "<polygon fill=\"black\" stroke=\"black\" points=\"297.1,-896.64 300.36,-886.56 291.52,-892.4 297.1,-896.64\"/>\n",
       "<text text-anchor=\"middle\" x=\"284.5\" y=\"-915.8\" font-family=\"DejaVu Serif,serif\" font-size=\"14.00\">2</text>\n",
       "</g>\n",
       "<!-- 21&#45;&gt;23 -->\n",
       "<g id=\"edge38\" class=\"edge\">\n",
       "<title>21&#45;&gt;23</title>\n",
       "<path fill=\"none\" stroke=\"black\" d=\"M201.32,-944.85C213.31,-915.48 233.57,-872.51 260,-841 274.12,-824.16 292.58,-808.75 309.79,-796.24\"/>\n",
       "<polygon fill=\"black\" stroke=\"black\" points=\"311.97,-798.98 318.11,-790.34 307.93,-793.27 311.97,-798.98\"/>\n",
       "<text text-anchor=\"middle\" x=\"264.5\" y=\"-863.8\" font-family=\"DejaVu Serif,serif\" font-size=\"14.00\">2</text>\n",
       "</g>\n",
       "<!-- 21&#45;&gt;26 -->\n",
       "<g id=\"edge45\" class=\"edge\">\n",
       "<title>21&#45;&gt;26</title>\n",
       "<path fill=\"none\" stroke=\"black\" d=\"M193.43,-944.81C200.62,-890.97 214.77,-785.03 222.2,-729.46\"/>\n",
       "<polygon fill=\"black\" stroke=\"black\" points=\"225.69,-729.75 223.54,-719.37 218.75,-728.82 225.69,-729.75\"/>\n",
       "<text text-anchor=\"middle\" x=\"211.5\" y=\"-863.8\" font-family=\"DejaVu Serif,serif\" font-size=\"14.00\">2</text>\n",
       "</g>\n",
       "<!-- 22&#45;&gt;23 -->\n",
       "<g id=\"edge39\" class=\"edge\">\n",
       "<title>22&#45;&gt;23</title>\n",
       "<path fill=\"none\" stroke=\"black\" d=\"M321.4,-848.26C327.63,-834.76 336.3,-815.93 343.85,-799.55\"/>\n",
       "<polygon fill=\"black\" stroke=\"black\" points=\"347.13,-800.79 348.14,-790.24 340.78,-797.86 347.13,-800.79\"/>\n",
       "<text text-anchor=\"middle\" x=\"344.5\" y=\"-811.8\" font-family=\"DejaVu Serif,serif\" font-size=\"14.00\">3</text>\n",
       "</g>\n",
       "<!-- 22&#45;&gt;26 -->\n",
       "<g id=\"edge46\" class=\"edge\">\n",
       "<title>22&#45;&gt;26</title>\n",
       "<path fill=\"none\" stroke=\"black\" d=\"M292.19,-848.49C277.01,-834.17 257.21,-812.82 246,-790 236.72,-771.12 231.97,-748.07 229.54,-729.23\"/>\n",
       "<polygon fill=\"black\" stroke=\"black\" points=\"233.02,-728.79 228.42,-719.25 226.06,-729.58 233.02,-728.79\"/>\n",
       "<text text-anchor=\"middle\" x=\"273.5\" y=\"-811.8\" font-family=\"DejaVu Serif,serif\" font-size=\"14.00\">3</text>\n",
       "</g>\n",
       "<!-- 25 -->\n",
       "<g id=\"node25\" class=\"node\">\n",
       "<title>25</title>\n",
       "<polygon fill=\"none\" stroke=\"black\" points=\"398,-648 322,-648 322,-595 398,-595 398,-648\"/>\n",
       "<text text-anchor=\"middle\" x=\"360\" y=\"-632.8\" font-family=\"DejaVu Serif,serif\" font-size=\"14.00\">[25]</text>\n",
       "<text text-anchor=\"middle\" x=\"360\" y=\"-617.8\" font-family=\"DejaVu Serif,serif\" font-size=\"14.00\">Pre</text>\n",
       "<text text-anchor=\"middle\" x=\"360\" y=\"-602.8\" font-family=\"DejaVu Serif,serif\" font-size=\"14.00\">Compose</text>\n",
       "</g>\n",
       "<!-- 23&#45;&gt;25 -->\n",
       "<g id=\"edge43\" class=\"edge\">\n",
       "<title>23&#45;&gt;25</title>\n",
       "<path fill=\"none\" stroke=\"black\" d=\"M360,-736.82C360,-714.72 360,-682.6 360,-658.03\"/>\n",
       "<polygon fill=\"black\" stroke=\"black\" points=\"363.5,-658.02 360,-648.02 356.5,-658.02 363.5,-658.02\"/>\n",
       "<text text-anchor=\"middle\" x=\"364.5\" y=\"-688.8\" font-family=\"DejaVu Serif,serif\" font-size=\"14.00\">2</text>\n",
       "</g>\n",
       "<!-- 24&#45;&gt;25 -->\n",
       "<g id=\"edge42\" class=\"edge\">\n",
       "<title>24&#45;&gt;25</title>\n",
       "<path fill=\"none\" stroke=\"black\" d=\"M605.14,-840.52C581.92,-813.52 543.58,-770.58 507,-737 474.22,-706.91 434.22,-676.09 404.22,-654.02\"/>\n",
       "<polygon fill=\"black\" stroke=\"black\" points=\"406.18,-651.12 396.05,-648.04 402.05,-656.77 406.18,-651.12\"/>\n",
       "<text text-anchor=\"middle\" x=\"563.5\" y=\"-759.8\" font-family=\"DejaVu Serif,serif\" font-size=\"14.00\">1</text>\n",
       "</g>\n",
       "<!-- 27 -->\n",
       "<g id=\"node27\" class=\"node\">\n",
       "<title>27</title>\n",
       "<polygon fill=\"none\" stroke=\"black\" points=\"323.5,-544 256.5,-544 256.5,-491 323.5,-491 323.5,-544\"/>\n",
       "<text text-anchor=\"middle\" x=\"290\" y=\"-528.8\" font-family=\"DejaVu Serif,serif\" font-size=\"14.00\">[27]</text>\n",
       "<text text-anchor=\"middle\" x=\"290\" y=\"-513.8\" font-family=\"DejaVu Serif,serif\" font-size=\"14.00\">Fiber</text>\n",
       "<text text-anchor=\"middle\" x=\"290\" y=\"-498.8\" font-family=\"DejaVu Serif,serif\" font-size=\"14.00\">Product</text>\n",
       "</g>\n",
       "<!-- 25&#45;&gt;27 -->\n",
       "<g id=\"edge47\" class=\"edge\">\n",
       "<title>25&#45;&gt;27</title>\n",
       "<path fill=\"none\" stroke=\"black\" d=\"M342.34,-594.76C333.55,-581.96 322.81,-566.31 313.35,-552.53\"/>\n",
       "<polygon fill=\"black\" stroke=\"black\" points=\"316.2,-550.5 307.66,-544.23 310.43,-554.46 316.2,-550.5\"/>\n",
       "<text text-anchor=\"middle\" x=\"334.5\" y=\"-565.8\" font-family=\"DejaVu Serif,serif\" font-size=\"14.00\">1</text>\n",
       "</g>\n",
       "<!-- 28 -->\n",
       "<g id=\"node28\" class=\"node\">\n",
       "<title>28</title>\n",
       "<polygon fill=\"none\" stroke=\"black\" points=\"282.5,-440 47.5,-440 47.5,-387 282.5,-387 282.5,-440\"/>\n",
       "<text text-anchor=\"middle\" x=\"165\" y=\"-424.8\" font-family=\"DejaVu Serif,serif\" font-size=\"14.00\">[28]</text>\n",
       "<text text-anchor=\"middle\" x=\"165\" y=\"-409.8\" font-family=\"DejaVu Serif,serif\" font-size=\"14.00\">ProjectionInFactorOfFiberProduct</text>\n",
       "<text text-anchor=\"middle\" x=\"165\" y=\"-394.8\" font-family=\"DejaVu Serif,serif\" font-size=\"14.00\">WithGivenFiberProduct( 1 )</text>\n",
       "</g>\n",
       "<!-- 25&#45;&gt;28 -->\n",
       "<g id=\"edge49\" class=\"edge\">\n",
       "<title>25&#45;&gt;28</title>\n",
       "<path fill=\"none\" stroke=\"black\" d=\"M360.92,-594.77C360.59,-566.38 355.92,-520.76 332,-491 315.68,-470.7 292.78,-455.57 269.16,-444.37\"/>\n",
       "<polygon fill=\"black\" stroke=\"black\" points=\"270.29,-441.04 259.73,-440.12 267.41,-447.42 270.29,-441.04\"/>\n",
       "<text text-anchor=\"middle\" x=\"360.5\" y=\"-513.8\" font-family=\"DejaVu Serif,serif\" font-size=\"14.00\">1</text>\n",
       "</g>\n",
       "<!-- 29 -->\n",
       "<g id=\"node29\" class=\"node\">\n",
       "<title>29</title>\n",
       "<polygon fill=\"none\" stroke=\"black\" points=\"535.5,-440 300.5,-440 300.5,-387 535.5,-387 535.5,-440\"/>\n",
       "<text text-anchor=\"middle\" x=\"418\" y=\"-424.8\" font-family=\"DejaVu Serif,serif\" font-size=\"14.00\">[29]</text>\n",
       "<text text-anchor=\"middle\" x=\"418\" y=\"-409.8\" font-family=\"DejaVu Serif,serif\" font-size=\"14.00\">ProjectionInFactorOfFiberProduct</text>\n",
       "<text text-anchor=\"middle\" x=\"418\" y=\"-394.8\" font-family=\"DejaVu Serif,serif\" font-size=\"14.00\">WithGivenFiberProduct( 2 )</text>\n",
       "</g>\n",
       "<!-- 25&#45;&gt;29 -->\n",
       "<g id=\"edge52\" class=\"edge\">\n",
       "<title>25&#45;&gt;29</title>\n",
       "<path fill=\"none\" stroke=\"black\" d=\"M368.49,-594.8C370.36,-588.96 372.29,-582.78 374,-577 386.84,-533.63 400.24,-483.31 408.82,-450.3\"/>\n",
       "<polygon fill=\"black\" stroke=\"black\" points=\"412.32,-450.77 411.44,-440.22 405.54,-449.02 412.32,-450.77\"/>\n",
       "<text text-anchor=\"middle\" x=\"403.5\" y=\"-513.8\" font-family=\"DejaVu Serif,serif\" font-size=\"14.00\">1</text>\n",
       "</g>\n",
       "<!-- 26&#45;&gt;27 -->\n",
       "<g id=\"edge48\" class=\"edge\">\n",
       "<title>26&#45;&gt;27</title>\n",
       "<path fill=\"none\" stroke=\"black\" d=\"M236.3,-665.97C247.09,-636.33 264.96,-587.25 277.1,-553.93\"/>\n",
       "<polygon fill=\"black\" stroke=\"black\" points=\"280.53,-554.73 280.67,-544.13 273.96,-552.33 280.53,-554.73\"/>\n",
       "<text text-anchor=\"middle\" x=\"266.5\" y=\"-617.8\" font-family=\"DejaVu Serif,serif\" font-size=\"14.00\">2</text>\n",
       "</g>\n",
       "<!-- 26&#45;&gt;28 -->\n",
       "<g id=\"edge50\" class=\"edge\">\n",
       "<title>26&#45;&gt;28</title>\n",
       "<path fill=\"none\" stroke=\"black\" d=\"M219.06,-665.81C217.33,-659.97 215.56,-653.78 214,-648 195.39,-578.79 179.55,-496.47 171.24,-450.38\"/>\n",
       "<polygon fill=\"black\" stroke=\"black\" points=\"174.64,-449.52 169.44,-440.29 167.75,-450.75 174.64,-449.52\"/>\n",
       "<text text-anchor=\"middle\" x=\"201.5\" y=\"-565.8\" font-family=\"DejaVu Serif,serif\" font-size=\"14.00\">2</text>\n",
       "</g>\n",
       "<!-- 26&#45;&gt;29 -->\n",
       "<g id=\"edge53\" class=\"edge\">\n",
       "<title>26&#45;&gt;29</title>\n",
       "<path fill=\"none\" stroke=\"black\" d=\"M222.03,-665.9C215.56,-624.82 209.15,-543.49 247,-491 261.78,-470.51 283.34,-455.41 306.2,-444.31\"/>\n",
       "<polygon fill=\"black\" stroke=\"black\" points=\"307.73,-447.46 315.35,-440.1 304.81,-441.1 307.73,-447.46\"/>\n",
       "<text text-anchor=\"middle\" x=\"224.5\" y=\"-565.8\" font-family=\"DejaVu Serif,serif\" font-size=\"14.00\">2</text>\n",
       "</g>\n",
       "<!-- 27&#45;&gt;28 -->\n",
       "<g id=\"edge51\" class=\"edge\">\n",
       "<title>27&#45;&gt;28</title>\n",
       "<path fill=\"none\" stroke=\"black\" d=\"M258.46,-490.76C242.02,-477.35 221.77,-460.83 204.33,-446.59\"/>\n",
       "<polygon fill=\"black\" stroke=\"black\" points=\"206.49,-443.84 196.53,-440.23 202.07,-449.26 206.49,-443.84\"/>\n",
       "<text text-anchor=\"middle\" x=\"239.5\" y=\"-461.8\" font-family=\"DejaVu Serif,serif\" font-size=\"14.00\">3</text>\n",
       "</g>\n",
       "<!-- 27&#45;&gt;29 -->\n",
       "<g id=\"edge54\" class=\"edge\">\n",
       "<title>27&#45;&gt;29</title>\n",
       "<path fill=\"none\" stroke=\"black\" d=\"M322.3,-490.76C339.13,-477.35 359.86,-460.83 377.73,-446.59\"/>\n",
       "<polygon fill=\"black\" stroke=\"black\" points=\"380.07,-449.2 385.71,-440.23 375.71,-443.73 380.07,-449.2\"/>\n",
       "<text text-anchor=\"middle\" x=\"366.5\" y=\"-461.8\" font-family=\"DejaVu Serif,serif\" font-size=\"14.00\">3</text>\n",
       "</g>\n",
       "<!-- 30 -->\n",
       "<g id=\"node30\" class=\"node\">\n",
       "<title>30</title>\n",
       "<polygon fill=\"none\" stroke=\"black\" points=\"323.5,-336 254.5,-336 254.5,-298 323.5,-298 323.5,-336\"/>\n",
       "<text text-anchor=\"middle\" x=\"289\" y=\"-320.8\" font-family=\"DejaVu Serif,serif\" font-size=\"14.00\">[30]</text>\n",
       "<text text-anchor=\"middle\" x=\"289\" y=\"-305.8\" font-family=\"DejaVu Serif,serif\" font-size=\"14.00\">Pushout</text>\n",
       "</g>\n",
       "<!-- 28&#45;&gt;30 -->\n",
       "<g id=\"edge55\" class=\"edge\">\n",
       "<title>28&#45;&gt;30</title>\n",
       "<path fill=\"none\" stroke=\"black\" d=\"M214.63,-386.93C223.72,-381.47 232.88,-375.4 241,-369 250.36,-361.62 259.58,-352.42 267.41,-343.87\"/>\n",
       "<polygon fill=\"black\" stroke=\"black\" points=\"270.13,-346.07 274.17,-336.27 264.9,-341.42 270.13,-346.07\"/>\n",
       "<text text-anchor=\"middle\" x=\"261.5\" y=\"-357.8\" font-family=\"DejaVu Serif,serif\" font-size=\"14.00\">1</text>\n",
       "</g>\n",
       "<!-- 31 -->\n",
       "<g id=\"node31\" class=\"node\">\n",
       "<title>31</title>\n",
       "<polygon fill=\"none\" stroke=\"black\" points=\"510,-247 300,-247 300,-194 510,-194 510,-247\"/>\n",
       "<text text-anchor=\"middle\" x=\"405\" y=\"-231.8\" font-family=\"DejaVu Serif,serif\" font-size=\"14.00\">[31]</text>\n",
       "<text text-anchor=\"middle\" x=\"405\" y=\"-216.8\" font-family=\"DejaVu Serif,serif\" font-size=\"14.00\">InjectionOfCofactorOfPushout</text>\n",
       "<text text-anchor=\"middle\" x=\"405\" y=\"-201.8\" font-family=\"DejaVu Serif,serif\" font-size=\"14.00\">WithGivenPushout( 2 )</text>\n",
       "</g>\n",
       "<!-- 28&#45;&gt;31 -->\n",
       "<g id=\"edge57\" class=\"edge\">\n",
       "<title>28&#45;&gt;31</title>\n",
       "<path fill=\"none\" stroke=\"black\" d=\"M175.6,-386.69C187.17,-361.24 207.87,-322.69 236,-298 258.52,-278.23 286.99,-262.73 314.11,-251\"/>\n",
       "<polygon fill=\"black\" stroke=\"black\" points=\"315.77,-254.11 323.64,-247.01 313.06,-247.65 315.77,-254.11\"/>\n",
       "<text text-anchor=\"middle\" x=\"240.5\" y=\"-313.3\" font-family=\"DejaVu Serif,serif\" font-size=\"14.00\">1</text>\n",
       "</g>\n",
       "<!-- 33 -->\n",
       "<g id=\"node33\" class=\"node\">\n",
       "<title>33</title>\n",
       "<polygon fill=\"none\" stroke=\"black\" points=\"282,-247 72,-247 72,-194 282,-194 282,-247\"/>\n",
       "<text text-anchor=\"middle\" x=\"177\" y=\"-231.8\" font-family=\"DejaVu Serif,serif\" font-size=\"14.00\">[33]</text>\n",
       "<text text-anchor=\"middle\" x=\"177\" y=\"-216.8\" font-family=\"DejaVu Serif,serif\" font-size=\"14.00\">InjectionOfCofactorOfPushout</text>\n",
       "<text text-anchor=\"middle\" x=\"177\" y=\"-201.8\" font-family=\"DejaVu Serif,serif\" font-size=\"14.00\">WithGivenPushout( 1 )</text>\n",
       "</g>\n",
       "<!-- 28&#45;&gt;33 -->\n",
       "<g id=\"edge61\" class=\"edge\">\n",
       "<title>28&#45;&gt;33</title>\n",
       "<path fill=\"none\" stroke=\"black\" d=\"M166.62,-386.74C168.72,-353.33 172.39,-294.87 174.76,-257.19\"/>\n",
       "<polygon fill=\"black\" stroke=\"black\" points=\"178.25,-257.36 175.39,-247.16 171.27,-256.92 178.25,-257.36\"/>\n",
       "<text text-anchor=\"middle\" x=\"177.5\" y=\"-313.3\" font-family=\"DejaVu Serif,serif\" font-size=\"14.00\">1</text>\n",
       "</g>\n",
       "<!-- 29&#45;&gt;30 -->\n",
       "<g id=\"edge56\" class=\"edge\">\n",
       "<title>29&#45;&gt;30</title>\n",
       "<path fill=\"none\" stroke=\"black\" d=\"M364.19,-386.78C354.79,-381.41 345.36,-375.41 337,-369 327.54,-361.75 318.29,-352.57 310.48,-344.01\"/>\n",
       "<polygon fill=\"black\" stroke=\"black\" points=\"312.99,-341.57 303.74,-336.4 307.74,-346.2 312.99,-341.57\"/>\n",
       "<text text-anchor=\"middle\" x=\"341.5\" y=\"-357.8\" font-family=\"DejaVu Serif,serif\" font-size=\"14.00\">2</text>\n",
       "</g>\n",
       "<!-- 29&#45;&gt;31 -->\n",
       "<g id=\"edge58\" class=\"edge\">\n",
       "<title>29&#45;&gt;31</title>\n",
       "<path fill=\"none\" stroke=\"black\" d=\"M416.25,-386.74C413.97,-353.33 409.99,-294.87 407.43,-257.19\"/>\n",
       "<polygon fill=\"black\" stroke=\"black\" points=\"410.92,-256.89 406.75,-247.16 403.93,-257.37 410.92,-256.89\"/>\n",
       "<text text-anchor=\"middle\" x=\"417.5\" y=\"-313.3\" font-family=\"DejaVu Serif,serif\" font-size=\"14.00\">2</text>\n",
       "</g>\n",
       "<!-- 29&#45;&gt;33 -->\n",
       "<g id=\"edge62\" class=\"edge\">\n",
       "<title>29&#45;&gt;33</title>\n",
       "<path fill=\"none\" stroke=\"black\" d=\"M403.7,-386.99C388.55,-361.77 362.61,-323.4 332,-298 309.17,-279.06 280.86,-263.34 254.71,-251.18\"/>\n",
       "<polygon fill=\"black\" stroke=\"black\" points=\"256.11,-247.97 245.56,-247.03 253.22,-254.35 256.11,-247.97\"/>\n",
       "<text text-anchor=\"middle\" x=\"373.5\" y=\"-313.3\" font-family=\"DejaVu Serif,serif\" font-size=\"14.00\">2</text>\n",
       "</g>\n",
       "<!-- 30&#45;&gt;31 -->\n",
       "<g id=\"edge59\" class=\"edge\">\n",
       "<title>30&#45;&gt;31</title>\n",
       "<path fill=\"none\" stroke=\"black\" d=\"M311.37,-297.78C326.67,-285.31 347.37,-268.45 365.42,-253.75\"/>\n",
       "<polygon fill=\"black\" stroke=\"black\" points=\"367.95,-256.2 373.49,-247.17 363.53,-250.77 367.95,-256.2\"/>\n",
       "<text text-anchor=\"middle\" x=\"355.5\" y=\"-268.8\" font-family=\"DejaVu Serif,serif\" font-size=\"14.00\">3</text>\n",
       "</g>\n",
       "<!-- 30&#45;&gt;33 -->\n",
       "<g id=\"edge63\" class=\"edge\">\n",
       "<title>30&#45;&gt;33</title>\n",
       "<path fill=\"none\" stroke=\"black\" d=\"M267.41,-297.78C252.63,-285.31 232.64,-268.45 215.22,-253.75\"/>\n",
       "<polygon fill=\"black\" stroke=\"black\" points=\"217.32,-250.94 207.42,-247.17 212.81,-256.29 217.32,-250.94\"/>\n",
       "<text text-anchor=\"middle\" x=\"251.5\" y=\"-268.8\" font-family=\"DejaVu Serif,serif\" font-size=\"14.00\">3</text>\n",
       "</g>\n",
       "<!-- 32 -->\n",
       "<g id=\"node32\" class=\"node\">\n",
       "<title>32</title>\n",
       "<polygon fill=\"none\" stroke=\"black\" points=\"423,-157 313,-157 313,-104 423,-104 423,-157\"/>\n",
       "<text text-anchor=\"middle\" x=\"368\" y=\"-141.8\" font-family=\"DejaVu Serif,serif\" font-size=\"14.00\">[32]</text>\n",
       "<text text-anchor=\"middle\" x=\"368\" y=\"-126.8\" font-family=\"DejaVu Serif,serif\" font-size=\"14.00\">Inverse</text>\n",
       "<text text-anchor=\"middle\" x=\"368\" y=\"-111.8\" font-family=\"DejaVu Serif,serif\" font-size=\"14.00\">ForMorphisms</text>\n",
       "</g>\n",
       "<!-- 31&#45;&gt;32 -->\n",
       "<g id=\"edge60\" class=\"edge\">\n",
       "<title>31&#45;&gt;32</title>\n",
       "<path fill=\"none\" stroke=\"black\" d=\"M394.1,-193.57C390.56,-185.16 386.57,-175.68 382.8,-166.7\"/>\n",
       "<polygon fill=\"black\" stroke=\"black\" points=\"385.93,-165.1 378.82,-157.24 379.47,-167.82 385.93,-165.1\"/>\n",
       "</g>\n",
       "<!-- 34 -->\n",
       "<g id=\"node34\" class=\"node\">\n",
       "<title>34</title>\n",
       "<polygon fill=\"none\" stroke=\"black\" points=\"304,-53 228,-53 228,0 304,0 304,-53\"/>\n",
       "<text text-anchor=\"middle\" x=\"266\" y=\"-37.8\" font-family=\"DejaVu Serif,serif\" font-size=\"14.00\">[34]</text>\n",
       "<text text-anchor=\"middle\" x=\"266\" y=\"-22.8\" font-family=\"DejaVu Serif,serif\" font-size=\"14.00\">Pre</text>\n",
       "<text text-anchor=\"middle\" x=\"266\" y=\"-7.8\" font-family=\"DejaVu Serif,serif\" font-size=\"14.00\">Compose</text>\n",
       "</g>\n",
       "<!-- 32&#45;&gt;34 -->\n",
       "<g id=\"edge65\" class=\"edge\">\n",
       "<title>32&#45;&gt;34</title>\n",
       "<path fill=\"none\" stroke=\"black\" d=\"M342.26,-103.76C329.09,-90.59 312.92,-74.42 298.86,-60.36\"/>\n",
       "<polygon fill=\"black\" stroke=\"black\" points=\"301.28,-57.83 291.73,-53.23 296.33,-62.78 301.28,-57.83\"/>\n",
       "<text text-anchor=\"middle\" x=\"328.5\" y=\"-74.8\" font-family=\"DejaVu Serif,serif\" font-size=\"14.00\">2</text>\n",
       "</g>\n",
       "<!-- 33&#45;&gt;34 -->\n",
       "<g id=\"edge64\" class=\"edge\">\n",
       "<title>33&#45;&gt;34</title>\n",
       "<path fill=\"none\" stroke=\"black\" d=\"M189,-193.61C204.71,-159.73 232.28,-100.25 249.82,-62.41\"/>\n",
       "<polygon fill=\"black\" stroke=\"black\" points=\"253.02,-63.83 254.05,-53.29 246.66,-60.89 253.02,-63.83\"/>\n",
       "<text text-anchor=\"middle\" x=\"235.5\" y=\"-126.8\" font-family=\"DejaVu Serif,serif\" font-size=\"14.00\">1</text>\n",
       "</g>\n",
       "</g>\n",
       "</svg>\n"
      ]
     },
     "metadata": {},
     "output_type": "display_data"
    }
   ],
   "source": [
    "Visualize( s )"
   ]
  },
  {
   "cell_type": "code",
   "execution_count": 37,
   "id": "2eb4f3ec",
   "metadata": {},
   "outputs": [
    {
     "data": {
      "text/plain": [
       "GAP: \"PreCompose\""
      ]
     },
     "execution_count": 37,
     "metadata": {},
     "output_type": "execute_result"
    }
   ],
   "source": [
    "sO = GenesisOfCellOperation( s )"
   ]
  },
  {
   "cell_type": "code",
   "execution_count": 38,
   "id": "abf1cbe1",
   "metadata": {},
   "outputs": [
    {
     "data": {
      "text/plain": [
       "GAP: [ <A morphism in LazyCategory( Category of matrices over Q )>, <A morphism in LazyCategory( Category of matrices over Q )> ]"
      ]
     },
     "execution_count": 38,
     "metadata": {},
     "output_type": "execute_result"
    }
   ],
   "source": [
    "sA = GenesisOfCellArguments( s )"
   ]
  },
  {
   "cell_type": "code",
   "execution_count": 39,
   "id": "7789a243",
   "metadata": {},
   "outputs": [
    {
     "data": {
      "text/plain": [
       "GAP: \"InjectionOfCofactorOfPushoutWithGivenPushout\""
      ]
     },
     "execution_count": 39,
     "metadata": {},
     "output_type": "execute_result"
    }
   ],
   "source": [
    "GenesisOfCellOperation( sA[1] )"
   ]
  },
  {
   "cell_type": "code",
   "execution_count": 40,
   "id": "df711c20",
   "metadata": {},
   "outputs": [
    {
     "data": {
      "text/plain": [
       "GAP: [ [ <A morphism in LazyCategory( Category of matrices over Q )>, <A morphism in LazyCategory( Category of matrices over Q )> ], 1, <An object in LazyCategory( Category of matrices over Q )> ]"
      ]
     },
     "execution_count": 40,
     "metadata": {},
     "output_type": "execute_result"
    }
   ],
   "source": [
    "GenesisOfCellArguments( sA[1] )"
   ]
  },
  {
   "cell_type": "code",
   "execution_count": 41,
   "id": "8dbc9f81",
   "metadata": {},
   "outputs": [
    {
     "data": {
      "text/plain": [
       "GAP: \"InverseForMorphisms\""
      ]
     },
     "execution_count": 41,
     "metadata": {},
     "output_type": "execute_result"
    }
   ],
   "source": [
    "GenesisOfCellOperation( sA[2] )"
   ]
  },
  {
   "cell_type": "code",
   "execution_count": 42,
   "id": "1ca56878",
   "metadata": {},
   "outputs": [
    {
     "data": {
      "text/plain": [
       "GAP: [ <A morphism in LazyCategory( Category of matrices over Q )> ]"
      ]
     },
     "execution_count": 42,
     "metadata": {},
     "output_type": "execute_result"
    }
   ],
   "source": [
    "GenesisOfCellArguments( sA[2] )"
   ]
  },
  {
   "cell_type": "code",
   "execution_count": 43,
   "id": "f15036f8",
   "metadata": {},
   "outputs": [
    {
     "data": {
      "text/plain": [
       "false"
      ]
     },
     "execution_count": 43,
     "metadata": {},
     "output_type": "execute_result"
    }
   ],
   "source": [
    "HasGenesisOfCellOperation( a )"
   ]
  },
  {
   "cell_type": "code",
   "execution_count": 44,
   "id": "8488bd4b",
   "metadata": {},
   "outputs": [
    {
     "data": {
      "text/plain": [
       "false"
      ]
     },
     "execution_count": 44,
     "metadata": {},
     "output_type": "execute_result"
    }
   ],
   "source": [
    "HasGenesisOfCellArguments( a )"
   ]
  },
  {
   "cell_type": "code",
   "execution_count": 45,
   "id": "0dd4d164",
   "metadata": {},
   "outputs": [
    {
     "data": {
      "text/plain": [
       "GAP: <A morphism in LazyCategory( Category of matrices over Q )>"
      ]
     },
     "execution_count": 45,
     "metadata": {},
     "output_type": "execute_result"
    }
   ],
   "source": [
    "j = KernelObjectFunctorial( b, d, e )"
   ]
  },
  {
   "cell_type": "code",
   "execution_count": 46,
   "id": "e73e9e84",
   "metadata": {},
   "outputs": [
    {
     "data": {
      "text/plain": [
       "GAP: <A morphism in LazyCategory( Category of matrices over Q )>"
      ]
     },
     "execution_count": 46,
     "metadata": {},
     "output_type": "execute_result"
    }
   ],
   "source": [
    "k = CokernelObjectFunctorial( h, g, b )"
   ]
  },
  {
   "cell_type": "code",
   "execution_count": 47,
   "id": "77ddb1b6",
   "metadata": {},
   "outputs": [
    {
     "data": {
      "text/plain": [
       "GAP: <An object in LazyCategory( Category of matrices over Q )>"
      ]
     },
     "execution_count": 47,
     "metadata": {},
     "output_type": "execute_result"
    }
   ],
   "source": [
    "HK = HomologyObject( j, s )"
   ]
  },
  {
   "cell_type": "code",
   "execution_count": 48,
   "id": "d11e6131",
   "metadata": {},
   "outputs": [
    {
     "data": {
      "text/plain": [
       "GAP: <An object in LazyCategory( Category of matrices over Q )>"
      ]
     },
     "execution_count": 48,
     "metadata": {},
     "output_type": "execute_result"
    }
   ],
   "source": [
    "HC = HomologyObject( s, k )"
   ]
  }
 ],
 "metadata": {
  "@webio": {
   "lastCommId": null,
   "lastKernelId": null
  },
  "kernelspec": {
   "display_name": "Julia 1.7.3",
   "language": "julia",
   "name": "julia-1.7"
  },
  "language_info": {
   "file_extension": ".jl",
   "mimetype": "application/julia",
   "name": "julia",
   "version": "1.7.3"
  }
 },
 "nbformat": 4,
 "nbformat_minor": 5
}
