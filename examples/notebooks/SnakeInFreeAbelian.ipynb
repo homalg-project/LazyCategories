{
 "cells": [
  {
   "cell_type": "markdown",
   "id": "5dd5d895",
   "metadata": {},
   "source": [
    "[![Binder](https://mybinder.org/badge_logo.svg)](https://gesis.mybinder.org/v2/gh/homalg-project/CapAndHomalgNotebooks/master?urlpath=git-pull%3Frepo%3Dhttps%253A%252F%252Fgithub.com%252Fhomalg-project%252FCategoricalTowers%26urlpath%3Dtree%252FCategoricalTowers%252FLazyCategories%252Fexamples%252F%252Fnotebooks%252FSnakeInFreeAbelian.ipynb%26branch%3Dmaster)"
   ]
  },
  {
   "cell_type": "code",
   "execution_count": 1,
   "id": "c840924f",
   "metadata": {},
   "outputs": [
    {
     "name": "stdout",
     "output_type": "stream",
     "text": [
      "CapAndHomalg v\u001b[32m1.5.3\u001b[39m\n",
      "Imported OSCAR's components GAP and Singular_jll\n",
      "Type: ?CapAndHomalg for more information\n"
     ]
    }
   ],
   "source": [
    "using CapAndHomalg"
   ]
  },
  {
   "cell_type": "code",
   "execution_count": 2,
   "id": "c7cbfdbc",
   "metadata": {},
   "outputs": [],
   "source": [
    "LoadPackage( \"Algebroid\" )"
   ]
  },
  {
   "cell_type": "code",
   "execution_count": 3,
   "id": "40a12ba1",
   "metadata": {},
   "outputs": [
    {
     "data": {
      "text/plain": [
       "GAP: q(4)[a:1->2,b:2->3,c:3->4]"
      ]
     },
     "execution_count": 3,
     "metadata": {},
     "output_type": "execute_result"
    }
   ],
   "source": [
    "q = RightQuiver( \"q(4)[a:1->2,b:2->3,c:3->4]\" )"
   ]
  },
  {
   "cell_type": "code",
   "execution_count": 4,
   "id": "b3b23b01",
   "metadata": {},
   "outputs": [
    {
     "data": {
      "text/plain": [
       "GAP: FreeCategory( RightQuiver( \"q(4)[a:1->2,b:2->3,c:3->4]\" ) )"
      ]
     },
     "execution_count": 4,
     "metadata": {},
     "output_type": "execute_result"
    }
   ],
   "source": [
    "Fq = FreeCategory( q )"
   ]
  },
  {
   "cell_type": "code",
   "execution_count": 5,
   "id": "99872a4c",
   "metadata": {},
   "outputs": [
    {
     "data": {
      "text/plain": [
       "GAP: Z"
      ]
     },
     "execution_count": 5,
     "metadata": {},
     "output_type": "execute_result"
    }
   ],
   "source": [
    "ℤ = HomalgRingOfIntegers( )"
   ]
  },
  {
   "cell_type": "code",
   "execution_count": 6,
   "id": "8500cd4f",
   "metadata": {},
   "outputs": [
    {
     "data": {
      "text/plain": [
       "GAP: Algebroid( Z, FreeCategory( RightQuiver( \"q(4)[a:1->2,b:2->3,c:3->4]\" ) ) )"
      ]
     },
     "execution_count": 6,
     "metadata": {},
     "output_type": "execute_result"
    }
   ],
   "source": [
    "ℤq = ℤ[Fq]"
   ]
  },
  {
   "cell_type": "code",
   "execution_count": 7,
   "id": "370618b5",
   "metadata": {},
   "outputs": [
    {
     "data": {
      "text/plain": [
       "GAP: Algebroid( Z, FreeCategory( RightQuiver( \"q(4)[a:1->2,b:2->3,c:3->4]\" ) ) ) / relations"
      ]
     },
     "execution_count": 7,
     "metadata": {},
     "output_type": "execute_result"
    }
   ],
   "source": [
    "A = ℤq / [ ℤq.abc ]"
   ]
  },
  {
   "cell_type": "code",
   "execution_count": 8,
   "id": "646c977e",
   "metadata": {},
   "outputs": [],
   "source": [
    "LoadPackage( \"FreydCategoriesForCAP\" )"
   ]
  },
  {
   "cell_type": "code",
   "execution_count": 9,
   "id": "7e25abac",
   "metadata": {},
   "outputs": [
    {
     "data": {
      "text/plain": [
       "GAP: Additive closure( Algebroid( Z, FreeCategory( RightQuiver( \"q(4)[a:1->2,b:2->3,c:3->4]\" ) ) ) / relations )"
      ]
     },
     "execution_count": 9,
     "metadata": {},
     "output_type": "execute_result"
    }
   ],
   "source": [
    "A_add = AdditiveClosure( A )"
   ]
  },
  {
   "cell_type": "code",
   "execution_count": 10,
   "id": "69bd636c",
   "metadata": {},
   "outputs": [
    {
     "data": {
      "text/plain": [
       "GAP: Adelman category( Additive closure( Algebroid( Z, FreeCategory( RightQuiver( \"q(4)[a:1->2,b:2->3,c:3->4]\" ) ) ) / relations ) )"
      ]
     },
     "execution_count": 10,
     "metadata": {},
     "output_type": "execute_result"
    }
   ],
   "source": [
    "A_abel = AdelmanCategory( A_add )"
   ]
  },
  {
   "cell_type": "code",
   "execution_count": 11,
   "id": "a7e930b2",
   "metadata": {},
   "outputs": [],
   "source": [
    "LoadPackage( \"LazyCategories\" )"
   ]
  },
  {
   "cell_type": "code",
   "execution_count": 12,
   "id": "d12eb407",
   "metadata": {},
   "outputs": [
    {
     "data": {
      "text/plain": [
       "GAP: LazyCategory( Adelman category( Additive closure( Algebroid( Z, FreeCategory( RightQuiver( \"q(4)[a:1->2,b:2->3,c:3->4]\" ) ) ) / relations ) ) )"
      ]
     },
     "execution_count": 12,
     "metadata": {},
     "output_type": "execute_result"
    }
   ],
   "source": [
    "Lazy = LazyCategory( A_abel, show_evaluation = true )"
   ]
  },
  {
   "cell_type": "code",
   "execution_count": 13,
   "id": "ec39a95a",
   "metadata": {},
   "outputs": [
    {
     "data": {
      "text/plain": [
       "GAP: <An evaluated morphism in LazyCategory( Adelman category( Additive closure( Algebroid( Z, FreeCategory( RightQuiver( \"q(4)[a:1->2,b:2->3,c:3->4]\" ) ) ) / relations ) ) )>"
      ]
     },
     "execution_count": 13,
     "metadata": {},
     "output_type": "execute_result"
    }
   ],
   "source": [
    "a = A.a / A_add / A_abel / Lazy"
   ]
  },
  {
   "cell_type": "code",
   "execution_count": 14,
   "id": "1850c625",
   "metadata": {},
   "outputs": [
    {
     "data": {
      "text/plain": [
       "GAP: <An evaluated morphism in LazyCategory( Adelman category( Additive closure( Algebroid( Z, FreeCategory( RightQuiver( \"q(4)[a:1->2,b:2->3,c:3->4]\" ) ) ) / relations ) ) )>"
      ]
     },
     "execution_count": 14,
     "metadata": {},
     "output_type": "execute_result"
    }
   ],
   "source": [
    "b = A.b / A_add / A_abel / Lazy"
   ]
  },
  {
   "cell_type": "code",
   "execution_count": 15,
   "id": "c07c921f",
   "metadata": {},
   "outputs": [
    {
     "data": {
      "text/plain": [
       "GAP: <An evaluated morphism in LazyCategory( Adelman category( Additive closure( Algebroid( Z, FreeCategory( RightQuiver( \"q(4)[a:1->2,b:2->3,c:3->4]\" ) ) ) / relations ) ) )>"
      ]
     },
     "execution_count": 15,
     "metadata": {},
     "output_type": "execute_result"
    }
   ],
   "source": [
    "c = A.c / A_add / A_abel / Lazy"
   ]
  },
  {
   "cell_type": "code",
   "execution_count": 16,
   "id": "7728490f",
   "metadata": {},
   "outputs": [],
   "source": [
    "SetLabel( a, \"a\" )\n",
    "SetLabel( b, \"b\" )\n",
    "SetLabel( c, \"c\" )"
   ]
  },
  {
   "cell_type": "code",
   "execution_count": 17,
   "id": "5c12c128",
   "metadata": {},
   "outputs": [],
   "source": [
    "SetLabel( Source( a ), \"1\" )\n",
    "SetLabel( Source( b ), \"2\" )\n",
    "SetLabel( Range( b ), \"3\" )\n",
    "SetLabel( Range( c ), \"4\" )"
   ]
  },
  {
   "cell_type": "code",
   "execution_count": 18,
   "id": "7095b67a",
   "metadata": {},
   "outputs": [
    {
     "data": {
      "text/plain": [
       "GAP: <An epimorphism in LazyCategory( Adelman category( Additive closure( Algebroid( Z, FreeCategory( RightQuiver( \"q(4)[a:1->2,b:2->3,c:3->4]\" ) ) ) / relations ) ) )>"
      ]
     },
     "execution_count": 18,
     "metadata": {},
     "output_type": "execute_result"
    }
   ],
   "source": [
    "d = CokernelProjection( a )"
   ]
  },
  {
   "cell_type": "code",
   "execution_count": 19,
   "id": "f0e24588",
   "metadata": {},
   "outputs": [
    {
     "data": {
      "text/plain": [
       "GAP: <A morphism in LazyCategory( Adelman category( Additive closure( Algebroid( Z, FreeCategory( RightQuiver( \"q(4)[a:1->2,b:2->3,c:3->4]\" ) ) ) / relations ) ) )>"
      ]
     },
     "execution_count": 19,
     "metadata": {},
     "output_type": "execute_result"
    }
   ],
   "source": [
    "e = CokernelColift( a, PreCompose( b, c ) )"
   ]
  },
  {
   "cell_type": "code",
   "execution_count": 20,
   "id": "93657878",
   "metadata": {},
   "outputs": [
    {
     "data": {
      "text/plain": [
       "GAP: <A monomorphism in LazyCategory( Adelman category( Additive closure( Algebroid( Z, FreeCategory( RightQuiver( \"q(4)[a:1->2,b:2->3,c:3->4]\" ) ) ) / relations ) ) )>"
      ]
     },
     "execution_count": 20,
     "metadata": {},
     "output_type": "execute_result"
    }
   ],
   "source": [
    "f = KernelEmbedding( e )"
   ]
  },
  {
   "cell_type": "code",
   "execution_count": 21,
   "id": "dbbd5c41",
   "metadata": {},
   "outputs": [
    {
     "data": {
      "text/plain": [
       "GAP: <A monomorphism in LazyCategory( Adelman category( Additive closure( Algebroid( Z, FreeCategory( RightQuiver( \"q(4)[a:1->2,b:2->3,c:3->4]\" ) ) ) / relations ) ) )>"
      ]
     },
     "execution_count": 21,
     "metadata": {},
     "output_type": "execute_result"
    }
   ],
   "source": [
    "g = KernelEmbedding( c )"
   ]
  },
  {
   "cell_type": "code",
   "execution_count": 22,
   "id": "207e2743",
   "metadata": {},
   "outputs": [
    {
     "data": {
      "text/plain": [
       "GAP: <A morphism in LazyCategory( Adelman category( Additive closure( Algebroid( Z, FreeCategory( RightQuiver( \"q(4)[a:1->2,b:2->3,c:3->4]\" ) ) ) / relations ) ) )>"
      ]
     },
     "execution_count": 22,
     "metadata": {},
     "output_type": "execute_result"
    }
   ],
   "source": [
    "h = KernelLift( c, PreCompose( a, b ) )"
   ]
  },
  {
   "cell_type": "code",
   "execution_count": 23,
   "id": "c83761ef",
   "metadata": {},
   "outputs": [
    {
     "data": {
      "text/plain": [
       "GAP: <An epimorphism in LazyCategory( Adelman category( Additive closure( Algebroid( Z, FreeCategory( RightQuiver( \"q(4)[a:1->2,b:2->3,c:3->4]\" ) ) ) / relations ) ) )>"
      ]
     },
     "execution_count": 23,
     "metadata": {},
     "output_type": "execute_result"
    }
   ],
   "source": [
    "i = CokernelProjection( h )"
   ]
  },
  {
   "cell_type": "code",
   "execution_count": 24,
   "id": "6ad68520",
   "metadata": {},
   "outputs": [],
   "source": [
    "LoadPackage( \"GeneralizedMorphismsForCAP\" )"
   ]
  },
  {
   "cell_type": "code",
   "execution_count": 25,
   "id": "5d6cbe76",
   "metadata": {},
   "outputs": [],
   "source": [
    "SwitchGeneralizedMorphismStandard( g\"cospan\" )"
   ]
  },
  {
   "cell_type": "code",
   "execution_count": 26,
   "id": "2a64d37c",
   "metadata": {},
   "outputs": [
    {
     "data": {
      "text/plain": [
       "GAP: <A morphism in Generalized morphism category of LazyCategory( Adelman category( Additive closure( Algebroid( Z, FreeCategory( RightQuiver( \"q(4)[a:1->2,b:2->3,c:3->4]\" ) ) ) / relations ) ) ) by cospan>"
      ]
     },
     "execution_count": 26,
     "metadata": {},
     "output_type": "execute_result"
    }
   ],
   "source": [
    "ff = AsGeneralizedMorphism( f )"
   ]
  },
  {
   "cell_type": "code",
   "execution_count": 27,
   "id": "f9b7b6de",
   "metadata": {},
   "outputs": [
    {
     "data": {
      "text/plain": [
       "GAP: <A morphism in Generalized morphism category of LazyCategory( Adelman category( Additive closure( Algebroid( Z, FreeCategory( RightQuiver( \"q(4)[a:1->2,b:2->3,c:3->4]\" ) ) ) / relations ) ) ) by cospan>"
      ]
     },
     "execution_count": 27,
     "metadata": {},
     "output_type": "execute_result"
    }
   ],
   "source": [
    "dd = AsGeneralizedMorphism( d )"
   ]
  },
  {
   "cell_type": "code",
   "execution_count": 28,
   "id": "790f769f",
   "metadata": {},
   "outputs": [
    {
     "data": {
      "text/plain": [
       "GAP: <A morphism in Generalized morphism category of LazyCategory( Adelman category( Additive closure( Algebroid( Z, FreeCategory( RightQuiver( \"q(4)[a:1->2,b:2->3,c:3->4]\" ) ) ) / relations ) ) ) by cospan>"
      ]
     },
     "execution_count": 28,
     "metadata": {},
     "output_type": "execute_result"
    }
   ],
   "source": [
    "bb = AsGeneralizedMorphism( b )"
   ]
  },
  {
   "cell_type": "code",
   "execution_count": 29,
   "id": "8fea72af",
   "metadata": {},
   "outputs": [
    {
     "data": {
      "text/plain": [
       "GAP: <A morphism in Generalized morphism category of LazyCategory( Adelman category( Additive closure( Algebroid( Z, FreeCategory( RightQuiver( \"q(4)[a:1->2,b:2->3,c:3->4]\" ) ) ) / relations ) ) ) by cospan>"
      ]
     },
     "execution_count": 29,
     "metadata": {},
     "output_type": "execute_result"
    }
   ],
   "source": [
    "gg = AsGeneralizedMorphism( g )"
   ]
  },
  {
   "cell_type": "code",
   "execution_count": 30,
   "id": "ebd60d23",
   "metadata": {},
   "outputs": [
    {
     "data": {
      "text/plain": [
       "GAP: <A morphism in Generalized morphism category of LazyCategory( Adelman category( Additive closure( Algebroid( Z, FreeCategory( RightQuiver( \"q(4)[a:1->2,b:2->3,c:3->4]\" ) ) ) / relations ) ) ) by cospan>"
      ]
     },
     "execution_count": 30,
     "metadata": {},
     "output_type": "execute_result"
    }
   ],
   "source": [
    "ii = AsGeneralizedMorphism( i )"
   ]
  },
  {
   "cell_type": "code",
   "execution_count": 31,
   "id": "d7daa2b3",
   "metadata": {},
   "outputs": [
    {
     "data": {
      "text/plain": [
       "GAP: <A morphism in Generalized morphism category of LazyCategory( Adelman category( Additive closure( Algebroid( Z, FreeCategory( RightQuiver( \"q(4)[a:1->2,b:2->3,c:3->4]\" ) ) ) / relations ) ) ) by cospan>"
      ]
     },
     "execution_count": 31,
     "metadata": {},
     "output_type": "execute_result"
    }
   ],
   "source": [
    "ss = PreCompose( [ ff, PseudoInverse( dd ), bb, PseudoInverse( gg ), ii ] )"
   ]
  },
  {
   "cell_type": "code",
   "execution_count": 32,
   "id": "3955cd97",
   "metadata": {},
   "outputs": [
    {
     "data": {
      "text/plain": [
       "GAP: <A morphism in LazyCategory( Adelman category( Additive closure( Algebroid( Z, FreeCategory( RightQuiver( \"q(4)[a:1->2,b:2->3,c:3->4]\" ) ) ) / relations ) ) )>"
      ]
     },
     "execution_count": 32,
     "metadata": {},
     "output_type": "execute_result"
    }
   ],
   "source": [
    "s = HonestRepresentative( ss )"
   ]
  },
  {
   "cell_type": "code",
   "execution_count": 33,
   "id": "9cbbbbd7",
   "metadata": {
    "scrolled": false
   },
   "outputs": [
    {
     "data": {
      "image/svg+xml": [
       "<?xml version=\"1.0\" encoding=\"UTF-8\" standalone=\"no\"?>\n",
       "<!DOCTYPE svg PUBLIC \"-//W3C//DTD SVG 1.1//EN\"\n",
       " \"http://www.w3.org/Graphics/SVG/1.1/DTD/svg11.dtd\">\n",
       "<!-- Generated by graphviz version 2.50.0 (20211204.2007)\n",
       " -->\n",
       "<!-- Title: hgn Pages: 1 -->\n",
       "<svg width=\"944pt\" height=\"1587pt\"\n",
       " viewBox=\"0.00 0.00 944.00 1587.00\" xmlns=\"http://www.w3.org/2000/svg\" xmlns:xlink=\"http://www.w3.org/1999/xlink\">\n",
       "<g id=\"graph0\" class=\"graph\" transform=\"scale(1 1) rotate(0) translate(4 1583)\">\n",
       "<title>hgn</title>\n",
       "<polygon fill=\"white\" stroke=\"transparent\" points=\"-4,4 -4,-1583 940,-1583 940,4 -4,4\"/>\n",
       "<!-- 1 -->\n",
       "<g id=\"node1\" class=\"node\">\n",
       "<title>1</title>\n",
       "<polygon fill=\"none\" stroke=\"black\" points=\"753.5,-1579 664.5,-1579 664.5,-1511 753.5,-1511 753.5,-1579\"/>\n",
       "<text text-anchor=\"middle\" x=\"709\" y=\"-1563.8\" font-family=\"Times,serif\" font-size=\"14.00\">[1]</text>\n",
       "<text text-anchor=\"middle\" x=\"709\" y=\"-1548.8\" font-family=\"Times,serif\" font-size=\"14.00\">primitive</text>\n",
       "<text text-anchor=\"middle\" x=\"709\" y=\"-1533.8\" font-family=\"Times,serif\" font-size=\"14.00\">morphism</text>\n",
       "<text text-anchor=\"middle\" x=\"709\" y=\"-1518.8\" font-family=\"Times,serif\" font-size=\"14.00\">&lt;a&gt;</text>\n",
       "</g>\n",
       "<!-- 2 -->\n",
       "<g id=\"node2\" class=\"node\">\n",
       "<title>2</title>\n",
       "<polygon fill=\"none\" stroke=\"black\" points=\"783,-1466.5 703,-1466.5 703,-1413.5 783,-1413.5 783,-1466.5\"/>\n",
       "<text text-anchor=\"middle\" x=\"743\" y=\"-1451.3\" font-family=\"Times,serif\" font-size=\"14.00\">[2]</text>\n",
       "<text text-anchor=\"middle\" x=\"743\" y=\"-1436.3\" font-family=\"Times,serif\" font-size=\"14.00\">Cokernel</text>\n",
       "<text text-anchor=\"middle\" x=\"743\" y=\"-1421.3\" font-family=\"Times,serif\" font-size=\"14.00\">Object</text>\n",
       "</g>\n",
       "<!-- 1&#45;&gt;2 -->\n",
       "<g id=\"edge1\" class=\"edge\">\n",
       "<title>1&#45;&gt;2</title>\n",
       "<path fill=\"none\" stroke=\"black\" d=\"M719.94,-1510.84C723.61,-1499.74 727.7,-1487.34 731.41,-1476.1\"/>\n",
       "<polygon fill=\"black\" stroke=\"black\" points=\"734.74,-1477.17 734.56,-1466.58 728.1,-1474.98 734.74,-1477.17\"/>\n",
       "</g>\n",
       "<!-- 7 -->\n",
       "<g id=\"node7\" class=\"node\">\n",
       "<title>7</title>\n",
       "<polygon fill=\"none\" stroke=\"black\" points=\"358,-1347.5 276,-1347.5 276,-1294.5 358,-1294.5 358,-1347.5\"/>\n",
       "<text text-anchor=\"middle\" x=\"317\" y=\"-1332.3\" font-family=\"Times,serif\" font-size=\"14.00\">[7]</text>\n",
       "<text text-anchor=\"middle\" x=\"317\" y=\"-1317.3\" font-family=\"Times,serif\" font-size=\"14.00\">Pre</text>\n",
       "<text text-anchor=\"middle\" x=\"317\" y=\"-1302.3\" font-family=\"Times,serif\" font-size=\"14.00\">Compose</text>\n",
       "</g>\n",
       "<!-- 1&#45;&gt;7 -->\n",
       "<g id=\"edge4\" class=\"edge\">\n",
       "<title>1&#45;&gt;7</title>\n",
       "<path fill=\"none\" stroke=\"black\" d=\"M664.42,-1538.83C587.43,-1529.16 433.7,-1506.34 391,-1474 353.31,-1445.46 333.75,-1392.64 324.43,-1357.41\"/>\n",
       "<polygon fill=\"black\" stroke=\"black\" points=\"327.78,-1356.38 321.96,-1347.53 320.99,-1358.08 327.78,-1356.38\"/>\n",
       "<text text-anchor=\"middle\" x=\"396\" y=\"-1436.3\" font-family=\"Times,serif\" font-size=\"14.00\">1</text>\n",
       "</g>\n",
       "<!-- 10 -->\n",
       "<g id=\"node10\" class=\"node\">\n",
       "<title>10</title>\n",
       "<polygon fill=\"none\" stroke=\"black\" points=\"751.5,-1355 598.5,-1355 598.5,-1287 751.5,-1287 751.5,-1355\"/>\n",
       "<text text-anchor=\"middle\" x=\"675\" y=\"-1339.8\" font-family=\"Times,serif\" font-size=\"14.00\">[10]</text>\n",
       "<text text-anchor=\"middle\" x=\"675\" y=\"-1324.8\" font-family=\"Times,serif\" font-size=\"14.00\">CokernelProjection</text>\n",
       "<text text-anchor=\"middle\" x=\"675\" y=\"-1309.8\" font-family=\"Times,serif\" font-size=\"14.00\">WithGiven</text>\n",
       "<text text-anchor=\"middle\" x=\"675\" y=\"-1294.8\" font-family=\"Times,serif\" font-size=\"14.00\">CokernelObject</text>\n",
       "</g>\n",
       "<!-- 1&#45;&gt;10 -->\n",
       "<g id=\"edge7\" class=\"edge\">\n",
       "<title>1&#45;&gt;10</title>\n",
       "<path fill=\"none\" stroke=\"black\" d=\"M694.94,-1510.73C690.69,-1499.29 686.5,-1486.27 684,-1474 676.66,-1437.97 674.64,-1396.22 674.32,-1365.6\"/>\n",
       "<polygon fill=\"black\" stroke=\"black\" points=\"677.82,-1365.25 674.28,-1355.26 670.82,-1365.28 677.82,-1365.25\"/>\n",
       "<text text-anchor=\"middle\" x=\"689\" y=\"-1436.3\" font-family=\"Times,serif\" font-size=\"14.00\">1</text>\n",
       "</g>\n",
       "<!-- 12 -->\n",
       "<g id=\"node12\" class=\"node\">\n",
       "<title>12</title>\n",
       "<polygon fill=\"none\" stroke=\"black\" points=\"889.5,-1236 762.5,-1236 762.5,-1168 889.5,-1168 889.5,-1236\"/>\n",
       "<text text-anchor=\"middle\" x=\"826\" y=\"-1220.8\" font-family=\"Times,serif\" font-size=\"14.00\">[12]</text>\n",
       "<text text-anchor=\"middle\" x=\"826\" y=\"-1205.8\" font-family=\"Times,serif\" font-size=\"14.00\">CokernelColift</text>\n",
       "<text text-anchor=\"middle\" x=\"826\" y=\"-1190.8\" font-family=\"Times,serif\" font-size=\"14.00\">WithGiven</text>\n",
       "<text text-anchor=\"middle\" x=\"826\" y=\"-1175.8\" font-family=\"Times,serif\" font-size=\"14.00\">CokernelObject</text>\n",
       "</g>\n",
       "<!-- 1&#45;&gt;12 -->\n",
       "<g id=\"edge11\" class=\"edge\">\n",
       "<title>1&#45;&gt;12</title>\n",
       "<path fill=\"none\" stroke=\"black\" d=\"M753.65,-1516.02C768.12,-1504.73 782.8,-1490.45 792,-1474 832.24,-1402.08 833.51,-1302.91 830.18,-1246.63\"/>\n",
       "<polygon fill=\"black\" stroke=\"black\" points=\"833.65,-1246.05 829.49,-1236.31 826.67,-1246.52 833.65,-1246.05\"/>\n",
       "<text text-anchor=\"middle\" x=\"829\" y=\"-1376.8\" font-family=\"Times,serif\" font-size=\"14.00\">1</text>\n",
       "</g>\n",
       "<!-- 2&#45;&gt;10 -->\n",
       "<g id=\"edge8\" class=\"edge\">\n",
       "<title>2&#45;&gt;10</title>\n",
       "<path fill=\"none\" stroke=\"black\" d=\"M728.08,-1413.32C719.7,-1398.91 709.03,-1380.56 699.47,-1364.1\"/>\n",
       "<polygon fill=\"black\" stroke=\"black\" points=\"702.34,-1362.07 694.29,-1355.18 696.28,-1365.59 702.34,-1362.07\"/>\n",
       "<text text-anchor=\"middle\" x=\"719\" y=\"-1376.8\" font-family=\"Times,serif\" font-size=\"14.00\">2</text>\n",
       "</g>\n",
       "<!-- 2&#45;&gt;12 -->\n",
       "<g id=\"edge14\" class=\"edge\">\n",
       "<title>2&#45;&gt;12</title>\n",
       "<path fill=\"none\" stroke=\"black\" d=\"M752.04,-1413.29C766.19,-1373.06 793.73,-1294.76 810.92,-1245.89\"/>\n",
       "<polygon fill=\"black\" stroke=\"black\" points=\"814.3,-1246.82 814.31,-1236.23 807.69,-1244.5 814.3,-1246.82\"/>\n",
       "<text text-anchor=\"middle\" x=\"801\" y=\"-1317.3\" font-family=\"Times,serif\" font-size=\"14.00\">4</text>\n",
       "</g>\n",
       "<!-- 3 -->\n",
       "<g id=\"node3\" class=\"node\">\n",
       "<title>3</title>\n",
       "<polygon fill=\"none\" stroke=\"black\" points=\"499.5,-1474 410.5,-1474 410.5,-1406 499.5,-1406 499.5,-1474\"/>\n",
       "<text text-anchor=\"middle\" x=\"455\" y=\"-1458.8\" font-family=\"Times,serif\" font-size=\"14.00\">[3]</text>\n",
       "<text text-anchor=\"middle\" x=\"455\" y=\"-1443.8\" font-family=\"Times,serif\" font-size=\"14.00\">primitive</text>\n",
       "<text text-anchor=\"middle\" x=\"455\" y=\"-1428.8\" font-family=\"Times,serif\" font-size=\"14.00\">morphism</text>\n",
       "<text text-anchor=\"middle\" x=\"455\" y=\"-1413.8\" font-family=\"Times,serif\" font-size=\"14.00\">&lt;b&gt;</text>\n",
       "</g>\n",
       "<!-- 5 -->\n",
       "<g id=\"node5\" class=\"node\">\n",
       "<title>5</title>\n",
       "<polygon fill=\"none\" stroke=\"black\" points=\"496,-1347.5 414,-1347.5 414,-1294.5 496,-1294.5 496,-1347.5\"/>\n",
       "<text text-anchor=\"middle\" x=\"455\" y=\"-1332.3\" font-family=\"Times,serif\" font-size=\"14.00\">[5]</text>\n",
       "<text text-anchor=\"middle\" x=\"455\" y=\"-1317.3\" font-family=\"Times,serif\" font-size=\"14.00\">Pre</text>\n",
       "<text text-anchor=\"middle\" x=\"455\" y=\"-1302.3\" font-family=\"Times,serif\" font-size=\"14.00\">Compose</text>\n",
       "</g>\n",
       "<!-- 3&#45;&gt;5 -->\n",
       "<g id=\"edge2\" class=\"edge\">\n",
       "<title>3&#45;&gt;5</title>\n",
       "<path fill=\"none\" stroke=\"black\" d=\"M455,-1405.79C455,-1390.85 455,-1373.2 455,-1357.96\"/>\n",
       "<polygon fill=\"black\" stroke=\"black\" points=\"458.5,-1357.86 455,-1347.86 451.5,-1357.86 458.5,-1357.86\"/>\n",
       "<text text-anchor=\"middle\" x=\"460\" y=\"-1376.8\" font-family=\"Times,serif\" font-size=\"14.00\">1</text>\n",
       "</g>\n",
       "<!-- 3&#45;&gt;7 -->\n",
       "<g id=\"edge5\" class=\"edge\">\n",
       "<title>3&#45;&gt;7</title>\n",
       "<path fill=\"none\" stroke=\"black\" d=\"M410.1,-1419.78C393.84,-1411.49 376.04,-1400.75 362,-1388 352.03,-1378.95 343.16,-1367.28 335.97,-1356.27\"/>\n",
       "<polygon fill=\"black\" stroke=\"black\" points=\"338.85,-1354.28 330.59,-1347.65 332.92,-1357.99 338.85,-1354.28\"/>\n",
       "<text text-anchor=\"middle\" x=\"367\" y=\"-1376.8\" font-family=\"Times,serif\" font-size=\"14.00\">2</text>\n",
       "</g>\n",
       "<!-- 11 -->\n",
       "<g id=\"node11\" class=\"node\">\n",
       "<title>11</title>\n",
       "<polygon fill=\"none\" stroke=\"black\" points=\"615.5,-1221 540.5,-1221 540.5,-1183 615.5,-1183 615.5,-1221\"/>\n",
       "<text text-anchor=\"middle\" x=\"578\" y=\"-1205.8\" font-family=\"Times,serif\" font-size=\"14.00\">[11]</text>\n",
       "<text text-anchor=\"middle\" x=\"578\" y=\"-1190.8\" font-family=\"Times,serif\" font-size=\"14.00\">Pushout</text>\n",
       "</g>\n",
       "<!-- 3&#45;&gt;11 -->\n",
       "<g id=\"edge10\" class=\"edge\">\n",
       "<title>3&#45;&gt;11</title>\n",
       "<path fill=\"none\" stroke=\"black\" d=\"M499.87,-1420.15C514.01,-1412.17 528.42,-1401.52 538,-1388 571.69,-1340.45 577.9,-1270.01 578.53,-1231.2\"/>\n",
       "<polygon fill=\"black\" stroke=\"black\" points=\"582.03,-1231.16 578.58,-1221.14 575.03,-1231.13 582.03,-1231.16\"/>\n",
       "<text text-anchor=\"middle\" x=\"579\" y=\"-1317.3\" font-family=\"Times,serif\" font-size=\"14.00\">2</text>\n",
       "</g>\n",
       "<!-- 16 -->\n",
       "<g id=\"node16\" class=\"node\">\n",
       "<title>16</title>\n",
       "<polygon fill=\"none\" stroke=\"black\" points=\"527.5,-1117 296.5,-1117 296.5,-1064 527.5,-1064 527.5,-1117\"/>\n",
       "<text text-anchor=\"middle\" x=\"412\" y=\"-1101.8\" font-family=\"Times,serif\" font-size=\"14.00\">[16]</text>\n",
       "<text text-anchor=\"middle\" x=\"412\" y=\"-1086.8\" font-family=\"Times,serif\" font-size=\"14.00\">InjectionOfCofactorOfPushout</text>\n",
       "<text text-anchor=\"middle\" x=\"412\" y=\"-1071.8\" font-family=\"Times,serif\" font-size=\"14.00\">WithGivenPushout( 2 )</text>\n",
       "</g>\n",
       "<!-- 3&#45;&gt;16 -->\n",
       "<g id=\"edge22\" class=\"edge\">\n",
       "<title>3&#45;&gt;16</title>\n",
       "<path fill=\"none\" stroke=\"black\" d=\"M411.56,-1405.89C406.89,-1400.44 402.81,-1394.44 400,-1388 361.8,-1300.48 385.21,-1184.24 401.04,-1126.77\"/>\n",
       "<polygon fill=\"black\" stroke=\"black\" points=\"404.43,-1127.65 403.79,-1117.07 397.7,-1125.73 404.43,-1127.65\"/>\n",
       "<text text-anchor=\"middle\" x=\"385\" y=\"-1257.8\" font-family=\"Times,serif\" font-size=\"14.00\">2</text>\n",
       "</g>\n",
       "<!-- 18 -->\n",
       "<g id=\"node18\" class=\"node\">\n",
       "<title>18</title>\n",
       "<polygon fill=\"none\" stroke=\"black\" points=\"776.5,-1117 545.5,-1117 545.5,-1064 776.5,-1064 776.5,-1117\"/>\n",
       "<text text-anchor=\"middle\" x=\"661\" y=\"-1101.8\" font-family=\"Times,serif\" font-size=\"14.00\">[18]</text>\n",
       "<text text-anchor=\"middle\" x=\"661\" y=\"-1086.8\" font-family=\"Times,serif\" font-size=\"14.00\">InjectionOfCofactorOfPushout</text>\n",
       "<text text-anchor=\"middle\" x=\"661\" y=\"-1071.8\" font-family=\"Times,serif\" font-size=\"14.00\">WithGivenPushout( 1 )</text>\n",
       "</g>\n",
       "<!-- 3&#45;&gt;18 -->\n",
       "<g id=\"edge27\" class=\"edge\">\n",
       "<title>3&#45;&gt;18</title>\n",
       "<path fill=\"none\" stroke=\"black\" d=\"M478.95,-1405.79C488.53,-1390.93 498.76,-1372.78 505,-1355 532.79,-1275.82 484.42,-1237.79 531,-1168 543.92,-1148.65 563.53,-1133.51 583.63,-1122\"/>\n",
       "<polygon fill=\"black\" stroke=\"black\" points=\"585.46,-1124.99 592.57,-1117.12 582.11,-1118.84 585.46,-1124.99\"/>\n",
       "<text text-anchor=\"middle\" x=\"518\" y=\"-1257.8\" font-family=\"Times,serif\" font-size=\"14.00\">2</text>\n",
       "</g>\n",
       "<!-- 4 -->\n",
       "<g id=\"node4\" class=\"node\">\n",
       "<title>4</title>\n",
       "<polygon fill=\"none\" stroke=\"black\" points=\"254.5,-1474 165.5,-1474 165.5,-1406 254.5,-1406 254.5,-1474\"/>\n",
       "<text text-anchor=\"middle\" x=\"210\" y=\"-1458.8\" font-family=\"Times,serif\" font-size=\"14.00\">[4]</text>\n",
       "<text text-anchor=\"middle\" x=\"210\" y=\"-1443.8\" font-family=\"Times,serif\" font-size=\"14.00\">primitive</text>\n",
       "<text text-anchor=\"middle\" x=\"210\" y=\"-1428.8\" font-family=\"Times,serif\" font-size=\"14.00\">morphism</text>\n",
       "<text text-anchor=\"middle\" x=\"210\" y=\"-1413.8\" font-family=\"Times,serif\" font-size=\"14.00\">&lt;c&gt;</text>\n",
       "</g>\n",
       "<!-- 4&#45;&gt;5 -->\n",
       "<g id=\"edge3\" class=\"edge\">\n",
       "<title>4&#45;&gt;5</title>\n",
       "<path fill=\"none\" stroke=\"black\" d=\"M254.83,-1420.89C268.55,-1415.69 283.78,-1410.29 298,-1406 332.06,-1395.73 344.14,-1403.84 376,-1388 392.99,-1379.55 409.47,-1366.76 422.95,-1354.68\"/>\n",
       "<polygon fill=\"black\" stroke=\"black\" points=\"425.55,-1357.05 430.52,-1347.69 420.8,-1351.9 425.55,-1357.05\"/>\n",
       "<text text-anchor=\"middle\" x=\"405\" y=\"-1376.8\" font-family=\"Times,serif\" font-size=\"14.00\">2</text>\n",
       "</g>\n",
       "<!-- 9 -->\n",
       "<g id=\"node9\" class=\"node\">\n",
       "<title>9</title>\n",
       "<polygon fill=\"none\" stroke=\"black\" points=\"211.5,-1347.5 148.5,-1347.5 148.5,-1294.5 211.5,-1294.5 211.5,-1347.5\"/>\n",
       "<text text-anchor=\"middle\" x=\"180\" y=\"-1332.3\" font-family=\"Times,serif\" font-size=\"14.00\">[9]</text>\n",
       "<text text-anchor=\"middle\" x=\"180\" y=\"-1317.3\" font-family=\"Times,serif\" font-size=\"14.00\">Kernel</text>\n",
       "<text text-anchor=\"middle\" x=\"180\" y=\"-1302.3\" font-family=\"Times,serif\" font-size=\"14.00\">Object</text>\n",
       "</g>\n",
       "<!-- 4&#45;&gt;9 -->\n",
       "<g id=\"edge6\" class=\"edge\">\n",
       "<title>4&#45;&gt;9</title>\n",
       "<path fill=\"none\" stroke=\"black\" d=\"M201.48,-1405.79C197.66,-1390.85 193.13,-1373.2 189.22,-1357.96\"/>\n",
       "<polygon fill=\"black\" stroke=\"black\" points=\"192.5,-1356.67 186.63,-1347.86 185.72,-1358.41 192.5,-1356.67\"/>\n",
       "</g>\n",
       "<!-- 14 -->\n",
       "<g id=\"node14\" class=\"node\">\n",
       "<title>14</title>\n",
       "<polygon fill=\"none\" stroke=\"black\" points=\"176,-1236 66,-1236 66,-1168 176,-1168 176,-1236\"/>\n",
       "<text text-anchor=\"middle\" x=\"121\" y=\"-1220.8\" font-family=\"Times,serif\" font-size=\"14.00\">[14]</text>\n",
       "<text text-anchor=\"middle\" x=\"121\" y=\"-1205.8\" font-family=\"Times,serif\" font-size=\"14.00\">KernelLift</text>\n",
       "<text text-anchor=\"middle\" x=\"121\" y=\"-1190.8\" font-family=\"Times,serif\" font-size=\"14.00\">WithGiven</text>\n",
       "<text text-anchor=\"middle\" x=\"121\" y=\"-1175.8\" font-family=\"Times,serif\" font-size=\"14.00\">KernelObject</text>\n",
       "</g>\n",
       "<!-- 4&#45;&gt;14 -->\n",
       "<g id=\"edge16\" class=\"edge\">\n",
       "<title>4&#45;&gt;14</title>\n",
       "<path fill=\"none\" stroke=\"black\" d=\"M167.12,-1405.76C152.34,-1391.81 137.4,-1374.32 129,-1355 114.1,-1320.7 113.23,-1277.88 115.43,-1246.44\"/>\n",
       "<polygon fill=\"black\" stroke=\"black\" points=\"118.93,-1246.49 116.28,-1236.24 111.96,-1245.91 118.93,-1246.49\"/>\n",
       "<text text-anchor=\"middle\" x=\"134\" y=\"-1317.3\" font-family=\"Times,serif\" font-size=\"14.00\">1</text>\n",
       "</g>\n",
       "<!-- 17 -->\n",
       "<g id=\"node17\" class=\"node\">\n",
       "<title>17</title>\n",
       "<polygon fill=\"none\" stroke=\"black\" points=\"339.5,-1236 194.5,-1236 194.5,-1168 339.5,-1168 339.5,-1236\"/>\n",
       "<text text-anchor=\"middle\" x=\"267\" y=\"-1220.8\" font-family=\"Times,serif\" font-size=\"14.00\">[17]</text>\n",
       "<text text-anchor=\"middle\" x=\"267\" y=\"-1205.8\" font-family=\"Times,serif\" font-size=\"14.00\">KernelEmbedding</text>\n",
       "<text text-anchor=\"middle\" x=\"267\" y=\"-1190.8\" font-family=\"Times,serif\" font-size=\"14.00\">WithGiven</text>\n",
       "<text text-anchor=\"middle\" x=\"267\" y=\"-1175.8\" font-family=\"Times,serif\" font-size=\"14.00\">KernelObject</text>\n",
       "</g>\n",
       "<!-- 4&#45;&gt;17 -->\n",
       "<g id=\"edge24\" class=\"edge\">\n",
       "<title>4&#45;&gt;17</title>\n",
       "<path fill=\"none\" stroke=\"black\" d=\"M217.99,-1405.94C228.07,-1364.19 245.44,-1292.26 256.57,-1246.2\"/>\n",
       "<polygon fill=\"black\" stroke=\"black\" points=\"260.03,-1246.76 258.98,-1236.22 253.23,-1245.12 260.03,-1246.76\"/>\n",
       "<text text-anchor=\"middle\" x=\"252\" y=\"-1317.3\" font-family=\"Times,serif\" font-size=\"14.00\">1</text>\n",
       "</g>\n",
       "<!-- 5&#45;&gt;12 -->\n",
       "<g id=\"edge13\" class=\"edge\">\n",
       "<title>5&#45;&gt;12</title>\n",
       "<path fill=\"none\" stroke=\"black\" d=\"M496.01,-1298.29C525.13,-1283.73 565.54,-1265.24 603,-1254 650.03,-1239.89 664.11,-1246.85 712,-1236 725.26,-1233 739.26,-1229.35 752.73,-1225.59\"/>\n",
       "<polygon fill=\"black\" stroke=\"black\" points=\"753.77,-1228.93 762.43,-1222.84 751.86,-1222.2 753.77,-1228.93\"/>\n",
       "<text text-anchor=\"middle\" x=\"608\" y=\"-1257.8\" font-family=\"Times,serif\" font-size=\"14.00\">3</text>\n",
       "</g>\n",
       "<!-- 6 -->\n",
       "<g id=\"node6\" class=\"node\">\n",
       "<title>6</title>\n",
       "<polygon fill=\"none\" stroke=\"black\" points=\"936,-1355 854,-1355 854,-1287 936,-1287 936,-1355\"/>\n",
       "<text text-anchor=\"middle\" x=\"895\" y=\"-1339.8\" font-family=\"Times,serif\" font-size=\"14.00\">[6]</text>\n",
       "<text text-anchor=\"middle\" x=\"895\" y=\"-1324.8\" font-family=\"Times,serif\" font-size=\"14.00\">primitive</text>\n",
       "<text text-anchor=\"middle\" x=\"895\" y=\"-1309.8\" font-family=\"Times,serif\" font-size=\"14.00\">object</text>\n",
       "<text text-anchor=\"middle\" x=\"895\" y=\"-1294.8\" font-family=\"Times,serif\" font-size=\"14.00\">&lt;4&gt;</text>\n",
       "</g>\n",
       "<!-- 6&#45;&gt;12 -->\n",
       "<g id=\"edge12\" class=\"edge\">\n",
       "<title>6&#45;&gt;12</title>\n",
       "<path fill=\"none\" stroke=\"black\" d=\"M875.41,-1286.79C867.76,-1273.82 858.91,-1258.8 850.82,-1245.08\"/>\n",
       "<polygon fill=\"black\" stroke=\"black\" points=\"853.73,-1243.13 845.64,-1236.3 847.7,-1246.69 853.73,-1243.13\"/>\n",
       "<text text-anchor=\"middle\" x=\"869\" y=\"-1257.8\" font-family=\"Times,serif\" font-size=\"14.00\">2</text>\n",
       "</g>\n",
       "<!-- 7&#45;&gt;14 -->\n",
       "<g id=\"edge18\" class=\"edge\">\n",
       "<title>7&#45;&gt;14</title>\n",
       "<path fill=\"none\" stroke=\"black\" d=\"M291.41,-1294.43C276.77,-1280.93 257.48,-1264.94 238,-1254 218.6,-1243.1 209.82,-1245.08 185.54,-1235.89\"/>\n",
       "<polygon fill=\"black\" stroke=\"black\" points=\"186.84,-1232.64 176.26,-1232.13 184.22,-1239.13 186.84,-1232.64\"/>\n",
       "<text text-anchor=\"middle\" x=\"265\" y=\"-1257.8\" font-family=\"Times,serif\" font-size=\"14.00\">3</text>\n",
       "</g>\n",
       "<!-- 8 -->\n",
       "<g id=\"node8\" class=\"node\">\n",
       "<title>8</title>\n",
       "<polygon fill=\"none\" stroke=\"black\" points=\"84,-1355 2,-1355 2,-1287 84,-1287 84,-1355\"/>\n",
       "<text text-anchor=\"middle\" x=\"43\" y=\"-1339.8\" font-family=\"Times,serif\" font-size=\"14.00\">[8]</text>\n",
       "<text text-anchor=\"middle\" x=\"43\" y=\"-1324.8\" font-family=\"Times,serif\" font-size=\"14.00\">primitive</text>\n",
       "<text text-anchor=\"middle\" x=\"43\" y=\"-1309.8\" font-family=\"Times,serif\" font-size=\"14.00\">object</text>\n",
       "<text text-anchor=\"middle\" x=\"43\" y=\"-1294.8\" font-family=\"Times,serif\" font-size=\"14.00\">&lt;1&gt;</text>\n",
       "</g>\n",
       "<!-- 8&#45;&gt;14 -->\n",
       "<g id=\"edge17\" class=\"edge\">\n",
       "<title>8&#45;&gt;14</title>\n",
       "<path fill=\"none\" stroke=\"black\" d=\"M65.14,-1286.79C73.87,-1273.69 83.99,-1258.51 93.2,-1244.69\"/>\n",
       "<polygon fill=\"black\" stroke=\"black\" points=\"96.17,-1246.56 98.8,-1236.3 90.34,-1242.68 96.17,-1246.56\"/>\n",
       "<text text-anchor=\"middle\" x=\"92\" y=\"-1257.8\" font-family=\"Times,serif\" font-size=\"14.00\">2</text>\n",
       "</g>\n",
       "<!-- 9&#45;&gt;14 -->\n",
       "<g id=\"edge19\" class=\"edge\">\n",
       "<title>9&#45;&gt;14</title>\n",
       "<path fill=\"none\" stroke=\"black\" d=\"M167.05,-1294.32C159.85,-1280.04 150.7,-1261.9 142.46,-1245.55\"/>\n",
       "<polygon fill=\"black\" stroke=\"black\" points=\"145.36,-1243.53 137.73,-1236.18 139.11,-1246.69 145.36,-1243.53\"/>\n",
       "<text text-anchor=\"middle\" x=\"160\" y=\"-1257.8\" font-family=\"Times,serif\" font-size=\"14.00\">4</text>\n",
       "</g>\n",
       "<!-- 9&#45;&gt;17 -->\n",
       "<g id=\"edge25\" class=\"edge\">\n",
       "<title>9&#45;&gt;17</title>\n",
       "<path fill=\"none\" stroke=\"black\" d=\"M196.06,-1294.47C204.13,-1282.03 214.24,-1266.99 224,-1254 226.5,-1250.67 229.15,-1247.26 231.86,-1243.87\"/>\n",
       "<polygon fill=\"black\" stroke=\"black\" points=\"234.64,-1246 238.23,-1236.03 229.21,-1241.58 234.64,-1246\"/>\n",
       "<text text-anchor=\"middle\" x=\"229\" y=\"-1257.8\" font-family=\"Times,serif\" font-size=\"14.00\">2</text>\n",
       "</g>\n",
       "<!-- 10&#45;&gt;11 -->\n",
       "<g id=\"edge9\" class=\"edge\">\n",
       "<title>10&#45;&gt;11</title>\n",
       "<path fill=\"none\" stroke=\"black\" d=\"M643.69,-1286.94C638.35,-1281.05 632.94,-1274.91 628,-1269 617.29,-1256.19 606,-1241.41 596.86,-1229.09\"/>\n",
       "<polygon fill=\"black\" stroke=\"black\" points=\"599.66,-1226.99 590.92,-1221.01 594.02,-1231.14 599.66,-1226.99\"/>\n",
       "<text text-anchor=\"middle\" x=\"633\" y=\"-1257.8\" font-family=\"Times,serif\" font-size=\"14.00\">1</text>\n",
       "</g>\n",
       "<!-- 10&#45;&gt;16 -->\n",
       "<g id=\"edge21\" class=\"edge\">\n",
       "<title>10&#45;&gt;16</title>\n",
       "<path fill=\"none\" stroke=\"black\" d=\"M665.58,-1286.95C653.34,-1244.93 632.54,-1176.73 624,-1168 607.91,-1151.54 561.85,-1134.06 516.75,-1119.96\"/>\n",
       "<polygon fill=\"black\" stroke=\"black\" points=\"517.74,-1116.61 507.15,-1117.01 515.68,-1123.3 517.74,-1116.61\"/>\n",
       "<text text-anchor=\"middle\" x=\"655\" y=\"-1198.3\" font-family=\"Times,serif\" font-size=\"14.00\">1</text>\n",
       "</g>\n",
       "<!-- 10&#45;&gt;18 -->\n",
       "<g id=\"edge26\" class=\"edge\">\n",
       "<title>10&#45;&gt;18</title>\n",
       "<path fill=\"none\" stroke=\"black\" d=\"M673.09,-1286.79C671.31,-1255.99 668.55,-1208.9 666,-1168 665.18,-1154.82 664.24,-1140.37 663.41,-1127.6\"/>\n",
       "<polygon fill=\"black\" stroke=\"black\" points=\"666.88,-1127.09 662.73,-1117.35 659.89,-1127.56 666.88,-1127.09\"/>\n",
       "<text text-anchor=\"middle\" x=\"676\" y=\"-1198.3\" font-family=\"Times,serif\" font-size=\"14.00\">1</text>\n",
       "</g>\n",
       "<!-- 11&#45;&gt;16 -->\n",
       "<g id=\"edge23\" class=\"edge\">\n",
       "<title>11&#45;&gt;16</title>\n",
       "<path fill=\"none\" stroke=\"black\" d=\"M550.59,-1182.92C525.86,-1166.61 488.96,-1142.26 459.45,-1122.8\"/>\n",
       "<polygon fill=\"black\" stroke=\"black\" points=\"461.22,-1119.77 450.94,-1117.19 457.36,-1125.62 461.22,-1119.77\"/>\n",
       "<text text-anchor=\"middle\" x=\"505\" y=\"-1138.8\" font-family=\"Times,serif\" font-size=\"14.00\">3</text>\n",
       "</g>\n",
       "<!-- 11&#45;&gt;18 -->\n",
       "<g id=\"edge28\" class=\"edge\">\n",
       "<title>11&#45;&gt;18</title>\n",
       "<path fill=\"none\" stroke=\"black\" d=\"M591.71,-1182.92C603.5,-1167.36 620.83,-1144.5 635.21,-1125.52\"/>\n",
       "<polygon fill=\"black\" stroke=\"black\" points=\"638.12,-1127.48 641.37,-1117.39 632.54,-1123.25 638.12,-1127.48\"/>\n",
       "<text text-anchor=\"middle\" x=\"632\" y=\"-1138.8\" font-family=\"Times,serif\" font-size=\"14.00\">3</text>\n",
       "</g>\n",
       "<!-- 13 -->\n",
       "<g id=\"node13\" class=\"node\">\n",
       "<title>13</title>\n",
       "<polygon fill=\"none\" stroke=\"black\" points=\"857.5,-1117 794.5,-1117 794.5,-1064 857.5,-1064 857.5,-1117\"/>\n",
       "<text text-anchor=\"middle\" x=\"826\" y=\"-1101.8\" font-family=\"Times,serif\" font-size=\"14.00\">[13]</text>\n",
       "<text text-anchor=\"middle\" x=\"826\" y=\"-1086.8\" font-family=\"Times,serif\" font-size=\"14.00\">Kernel</text>\n",
       "<text text-anchor=\"middle\" x=\"826\" y=\"-1071.8\" font-family=\"Times,serif\" font-size=\"14.00\">Object</text>\n",
       "</g>\n",
       "<!-- 12&#45;&gt;13 -->\n",
       "<g id=\"edge15\" class=\"edge\">\n",
       "<title>12&#45;&gt;13</title>\n",
       "<path fill=\"none\" stroke=\"black\" d=\"M826,-1167.85C826,-1155.03 826,-1140.34 826,-1127.29\"/>\n",
       "<polygon fill=\"black\" stroke=\"black\" points=\"829.5,-1127.24 826,-1117.24 822.5,-1127.24 829.5,-1127.24\"/>\n",
       "</g>\n",
       "<!-- 19 -->\n",
       "<g id=\"node19\" class=\"node\">\n",
       "<title>19</title>\n",
       "<polygon fill=\"none\" stroke=\"black\" points=\"898.5,-1013 753.5,-1013 753.5,-945 898.5,-945 898.5,-1013\"/>\n",
       "<text text-anchor=\"middle\" x=\"826\" y=\"-997.8\" font-family=\"Times,serif\" font-size=\"14.00\">[19]</text>\n",
       "<text text-anchor=\"middle\" x=\"826\" y=\"-982.8\" font-family=\"Times,serif\" font-size=\"14.00\">KernelEmbedding</text>\n",
       "<text text-anchor=\"middle\" x=\"826\" y=\"-967.8\" font-family=\"Times,serif\" font-size=\"14.00\">WithGiven</text>\n",
       "<text text-anchor=\"middle\" x=\"826\" y=\"-952.8\" font-family=\"Times,serif\" font-size=\"14.00\">KernelObject</text>\n",
       "</g>\n",
       "<!-- 12&#45;&gt;19 -->\n",
       "<g id=\"edge29\" class=\"edge\">\n",
       "<title>12&#45;&gt;19</title>\n",
       "<path fill=\"none\" stroke=\"black\" d=\"M846.44,-1167.98C854.55,-1153 862.91,-1134.71 867,-1117 872.3,-1094.05 872.3,-1086.95 867,-1064 863.71,-1049.75 857.65,-1035.12 851.19,-1022.15\"/>\n",
       "<polygon fill=\"black\" stroke=\"black\" points=\"854.16,-1020.28 846.44,-1013.02 847.95,-1023.51 854.16,-1020.28\"/>\n",
       "<text text-anchor=\"middle\" x=\"875\" y=\"-1086.8\" font-family=\"Times,serif\" font-size=\"14.00\">1</text>\n",
       "</g>\n",
       "<!-- 13&#45;&gt;19 -->\n",
       "<g id=\"edge30\" class=\"edge\">\n",
       "<title>13&#45;&gt;19</title>\n",
       "<path fill=\"none\" stroke=\"black\" d=\"M826,-1063.83C826,-1051.84 826,-1037.23 826,-1023.59\"/>\n",
       "<polygon fill=\"black\" stroke=\"black\" points=\"829.5,-1023.4 826,-1013.4 822.5,-1023.4 829.5,-1023.4\"/>\n",
       "<text text-anchor=\"middle\" x=\"831\" y=\"-1034.8\" font-family=\"Times,serif\" font-size=\"14.00\">2</text>\n",
       "</g>\n",
       "<!-- 15 -->\n",
       "<g id=\"node15\" class=\"node\">\n",
       "<title>15</title>\n",
       "<polygon fill=\"none\" stroke=\"black\" points=\"161,-1117 81,-1117 81,-1064 161,-1064 161,-1117\"/>\n",
       "<text text-anchor=\"middle\" x=\"121\" y=\"-1101.8\" font-family=\"Times,serif\" font-size=\"14.00\">[15]</text>\n",
       "<text text-anchor=\"middle\" x=\"121\" y=\"-1086.8\" font-family=\"Times,serif\" font-size=\"14.00\">Cokernel</text>\n",
       "<text text-anchor=\"middle\" x=\"121\" y=\"-1071.8\" font-family=\"Times,serif\" font-size=\"14.00\">Object</text>\n",
       "</g>\n",
       "<!-- 14&#45;&gt;15 -->\n",
       "<g id=\"edge20\" class=\"edge\">\n",
       "<title>14&#45;&gt;15</title>\n",
       "<path fill=\"none\" stroke=\"black\" d=\"M121,-1167.85C121,-1155.03 121,-1140.34 121,-1127.29\"/>\n",
       "<polygon fill=\"black\" stroke=\"black\" points=\"124.5,-1127.24 121,-1117.24 117.5,-1127.24 124.5,-1127.24\"/>\n",
       "</g>\n",
       "<!-- 21 -->\n",
       "<g id=\"node21\" class=\"node\">\n",
       "<title>21</title>\n",
       "<polygon fill=\"none\" stroke=\"black\" points=\"273.5,-1013 120.5,-1013 120.5,-945 273.5,-945 273.5,-1013\"/>\n",
       "<text text-anchor=\"middle\" x=\"197\" y=\"-997.8\" font-family=\"Times,serif\" font-size=\"14.00\">[21]</text>\n",
       "<text text-anchor=\"middle\" x=\"197\" y=\"-982.8\" font-family=\"Times,serif\" font-size=\"14.00\">CokernelProjection</text>\n",
       "<text text-anchor=\"middle\" x=\"197\" y=\"-967.8\" font-family=\"Times,serif\" font-size=\"14.00\">WithGiven</text>\n",
       "<text text-anchor=\"middle\" x=\"197\" y=\"-952.8\" font-family=\"Times,serif\" font-size=\"14.00\">CokernelObject</text>\n",
       "</g>\n",
       "<!-- 14&#45;&gt;21 -->\n",
       "<g id=\"edge33\" class=\"edge\">\n",
       "<title>14&#45;&gt;21</title>\n",
       "<path fill=\"none\" stroke=\"black\" d=\"M143.72,-1167.96C153.1,-1152.98 163.32,-1134.69 170,-1117 181.44,-1086.74 188.29,-1050.8 192.22,-1023.32\"/>\n",
       "<polygon fill=\"black\" stroke=\"black\" points=\"195.72,-1023.62 193.59,-1013.24 188.78,-1022.67 195.72,-1023.62\"/>\n",
       "<text text-anchor=\"middle\" x=\"190\" y=\"-1086.8\" font-family=\"Times,serif\" font-size=\"14.00\">1</text>\n",
       "</g>\n",
       "<!-- 15&#45;&gt;21 -->\n",
       "<g id=\"edge34\" class=\"edge\">\n",
       "<title>15&#45;&gt;21</title>\n",
       "<path fill=\"none\" stroke=\"black\" d=\"M138.82,-1063.83C147.47,-1051.37 158.08,-1036.08 167.86,-1021.99\"/>\n",
       "<polygon fill=\"black\" stroke=\"black\" points=\"170.99,-1023.61 173.82,-1013.4 165.24,-1019.62 170.99,-1023.61\"/>\n",
       "<text text-anchor=\"middle\" x=\"167\" y=\"-1034.8\" font-family=\"Times,serif\" font-size=\"14.00\">2</text>\n",
       "</g>\n",
       "<!-- 20 -->\n",
       "<g id=\"node20\" class=\"node\">\n",
       "<title>20</title>\n",
       "<polygon fill=\"none\" stroke=\"black\" points=\"409,-1005.5 327,-1005.5 327,-952.5 409,-952.5 409,-1005.5\"/>\n",
       "<text text-anchor=\"middle\" x=\"368\" y=\"-990.3\" font-family=\"Times,serif\" font-size=\"14.00\">[20]</text>\n",
       "<text text-anchor=\"middle\" x=\"368\" y=\"-975.3\" font-family=\"Times,serif\" font-size=\"14.00\">Pre</text>\n",
       "<text text-anchor=\"middle\" x=\"368\" y=\"-960.3\" font-family=\"Times,serif\" font-size=\"14.00\">Compose</text>\n",
       "</g>\n",
       "<!-- 16&#45;&gt;20 -->\n",
       "<g id=\"edge32\" class=\"edge\">\n",
       "<title>16&#45;&gt;20</title>\n",
       "<path fill=\"none\" stroke=\"black\" d=\"M401.68,-1063.83C395.84,-1049.27 388.44,-1030.86 382.06,-1015\"/>\n",
       "<polygon fill=\"black\" stroke=\"black\" points=\"385.23,-1013.49 378.25,-1005.51 378.73,-1016.1 385.23,-1013.49\"/>\n",
       "<text text-anchor=\"middle\" x=\"399\" y=\"-1034.8\" font-family=\"Times,serif\" font-size=\"14.00\">2</text>\n",
       "</g>\n",
       "<!-- 17&#45;&gt;20 -->\n",
       "<g id=\"edge31\" class=\"edge\">\n",
       "<title>17&#45;&gt;20</title>\n",
       "<path fill=\"none\" stroke=\"black\" d=\"M262.84,-1167.99C260.68,-1139.11 261.21,-1096.76 277,-1064 286.79,-1043.69 303.82,-1025.93 320.52,-1012.03\"/>\n",
       "<polygon fill=\"black\" stroke=\"black\" points=\"323.04,-1014.51 328.66,-1005.53 318.67,-1009.04 323.04,-1014.51\"/>\n",
       "<text text-anchor=\"middle\" x=\"282\" y=\"-1086.8\" font-family=\"Times,serif\" font-size=\"14.00\">1</text>\n",
       "</g>\n",
       "<!-- 24 -->\n",
       "<g id=\"node24\" class=\"node\">\n",
       "<title>24</title>\n",
       "<polygon fill=\"none\" stroke=\"black\" points=\"702,-894 620,-894 620,-841 702,-841 702,-894\"/>\n",
       "<text text-anchor=\"middle\" x=\"661\" y=\"-878.8\" font-family=\"Times,serif\" font-size=\"14.00\">[24]</text>\n",
       "<text text-anchor=\"middle\" x=\"661\" y=\"-863.8\" font-family=\"Times,serif\" font-size=\"14.00\">Pre</text>\n",
       "<text text-anchor=\"middle\" x=\"661\" y=\"-848.8\" font-family=\"Times,serif\" font-size=\"14.00\">Compose</text>\n",
       "</g>\n",
       "<!-- 18&#45;&gt;24 -->\n",
       "<g id=\"edge41\" class=\"edge\">\n",
       "<title>18&#45;&gt;24</title>\n",
       "<path fill=\"none\" stroke=\"black\" d=\"M661,-1063.72C661,-1024.29 661,-948.91 661,-904.24\"/>\n",
       "<polygon fill=\"black\" stroke=\"black\" points=\"664.5,-904.12 661,-894.12 657.5,-904.12 664.5,-904.12\"/>\n",
       "<text text-anchor=\"middle\" x=\"666\" y=\"-975.3\" font-family=\"Times,serif\" font-size=\"14.00\">2</text>\n",
       "</g>\n",
       "<!-- 19&#45;&gt;24 -->\n",
       "<g id=\"edge40\" class=\"edge\">\n",
       "<title>19&#45;&gt;24</title>\n",
       "<path fill=\"none\" stroke=\"black\" d=\"M776.05,-944.85C754.46,-930.52 729.32,-913.84 708.06,-899.73\"/>\n",
       "<polygon fill=\"black\" stroke=\"black\" points=\"709.78,-896.67 699.52,-894.06 705.91,-902.51 709.78,-896.67\"/>\n",
       "<text text-anchor=\"middle\" x=\"754\" y=\"-915.8\" font-family=\"Times,serif\" font-size=\"14.00\">1</text>\n",
       "</g>\n",
       "<!-- 22 -->\n",
       "<g id=\"node22\" class=\"node\">\n",
       "<title>22</title>\n",
       "<polygon fill=\"none\" stroke=\"black\" points=\"331.5,-886.5 256.5,-886.5 256.5,-848.5 331.5,-848.5 331.5,-886.5\"/>\n",
       "<text text-anchor=\"middle\" x=\"294\" y=\"-871.3\" font-family=\"Times,serif\" font-size=\"14.00\">[22]</text>\n",
       "<text text-anchor=\"middle\" x=\"294\" y=\"-856.3\" font-family=\"Times,serif\" font-size=\"14.00\">Pushout</text>\n",
       "</g>\n",
       "<!-- 20&#45;&gt;22 -->\n",
       "<g id=\"edge35\" class=\"edge\">\n",
       "<title>20&#45;&gt;22</title>\n",
       "<path fill=\"none\" stroke=\"black\" d=\"M350.65,-952.33C339.08,-935.21 323.9,-912.75 312.17,-895.39\"/>\n",
       "<polygon fill=\"black\" stroke=\"black\" points=\"314.88,-893.15 306.39,-886.83 309.08,-897.07 314.88,-893.15\"/>\n",
       "<text text-anchor=\"middle\" x=\"339\" y=\"-915.8\" font-family=\"Times,serif\" font-size=\"14.00\">1</text>\n",
       "</g>\n",
       "<!-- 23 -->\n",
       "<g id=\"node23\" class=\"node\">\n",
       "<title>23</title>\n",
       "<polygon fill=\"none\" stroke=\"black\" points=\"462.5,-790 231.5,-790 231.5,-737 462.5,-737 462.5,-790\"/>\n",
       "<text text-anchor=\"middle\" x=\"347\" y=\"-774.8\" font-family=\"Times,serif\" font-size=\"14.00\">[23]</text>\n",
       "<text text-anchor=\"middle\" x=\"347\" y=\"-759.8\" font-family=\"Times,serif\" font-size=\"14.00\">InjectionOfCofactorOfPushout</text>\n",
       "<text text-anchor=\"middle\" x=\"347\" y=\"-744.8\" font-family=\"Times,serif\" font-size=\"14.00\">WithGivenPushout( 1 )</text>\n",
       "</g>\n",
       "<!-- 20&#45;&gt;23 -->\n",
       "<g id=\"edge37\" class=\"edge\">\n",
       "<title>20&#45;&gt;23</title>\n",
       "<path fill=\"none\" stroke=\"black\" d=\"M365.47,-952.25C361.73,-914.23 354.72,-842.98 350.49,-800.03\"/>\n",
       "<polygon fill=\"black\" stroke=\"black\" points=\"353.97,-799.62 349.51,-790.01 347.01,-800.31 353.97,-799.62\"/>\n",
       "<text text-anchor=\"middle\" x=\"365\" y=\"-863.8\" font-family=\"Times,serif\" font-size=\"14.00\">1</text>\n",
       "</g>\n",
       "<!-- 26 -->\n",
       "<g id=\"node26\" class=\"node\">\n",
       "<title>26</title>\n",
       "<polygon fill=\"none\" stroke=\"black\" points=\"320.5,-719 89.5,-719 89.5,-666 320.5,-666 320.5,-719\"/>\n",
       "<text text-anchor=\"middle\" x=\"205\" y=\"-703.8\" font-family=\"Times,serif\" font-size=\"14.00\">[26]</text>\n",
       "<text text-anchor=\"middle\" x=\"205\" y=\"-688.8\" font-family=\"Times,serif\" font-size=\"14.00\">InjectionOfCofactorOfPushout</text>\n",
       "<text text-anchor=\"middle\" x=\"205\" y=\"-673.8\" font-family=\"Times,serif\" font-size=\"14.00\">WithGivenPushout( 2 )</text>\n",
       "</g>\n",
       "<!-- 20&#45;&gt;26 -->\n",
       "<g id=\"edge44\" class=\"edge\">\n",
       "<title>20&#45;&gt;26</title>\n",
       "<path fill=\"none\" stroke=\"black\" d=\"M395.21,-952.34C442.17,-905 528.16,-802.76 471,-737 452.16,-715.32 371.35,-723.61 343,-719 338.87,-718.33 334.68,-717.63 330.45,-716.92\"/>\n",
       "<polygon fill=\"black\" stroke=\"black\" points=\"330.96,-713.46 320.52,-715.22 329.79,-720.36 330.96,-713.46\"/>\n",
       "<text text-anchor=\"middle\" x=\"482\" y=\"-863.8\" font-family=\"Times,serif\" font-size=\"14.00\">1</text>\n",
       "</g>\n",
       "<!-- 21&#45;&gt;22 -->\n",
       "<g id=\"edge36\" class=\"edge\">\n",
       "<title>21&#45;&gt;22</title>\n",
       "<path fill=\"none\" stroke=\"black\" d=\"M226.37,-944.85C240.8,-928.55 257.93,-909.22 271.34,-894.08\"/>\n",
       "<polygon fill=\"black\" stroke=\"black\" points=\"273.96,-896.4 277.98,-886.59 268.72,-891.75 273.96,-896.4\"/>\n",
       "<text text-anchor=\"middle\" x=\"260\" y=\"-915.8\" font-family=\"Times,serif\" font-size=\"14.00\">2</text>\n",
       "</g>\n",
       "<!-- 21&#45;&gt;23 -->\n",
       "<g id=\"edge38\" class=\"edge\">\n",
       "<title>21&#45;&gt;23</title>\n",
       "<path fill=\"none\" stroke=\"black\" d=\"M200.38,-944.84C204.77,-915.26 214.72,-871.98 237,-841 249.96,-822.99 268.53,-807.78 286.74,-795.78\"/>\n",
       "<polygon fill=\"black\" stroke=\"black\" points=\"289.05,-798.46 295.62,-790.15 285.3,-792.55 289.05,-798.46\"/>\n",
       "<text text-anchor=\"middle\" x=\"242\" y=\"-863.8\" font-family=\"Times,serif\" font-size=\"14.00\">2</text>\n",
       "</g>\n",
       "<!-- 21&#45;&gt;26 -->\n",
       "<g id=\"edge45\" class=\"edge\">\n",
       "<title>21&#45;&gt;26</title>\n",
       "<path fill=\"none\" stroke=\"black\" d=\"M197.24,-944.77C197.5,-917.03 198.02,-876.43 199,-841 200.05,-802.9 201.91,-759.28 203.28,-729.42\"/>\n",
       "<polygon fill=\"black\" stroke=\"black\" points=\"206.79,-729.23 203.76,-719.07 199.8,-728.9 206.79,-729.23\"/>\n",
       "<text text-anchor=\"middle\" x=\"204\" y=\"-863.8\" font-family=\"Times,serif\" font-size=\"14.00\">2</text>\n",
       "</g>\n",
       "<!-- 22&#45;&gt;23 -->\n",
       "<g id=\"edge39\" class=\"edge\">\n",
       "<title>22&#45;&gt;23</title>\n",
       "<path fill=\"none\" stroke=\"black\" d=\"M303.48,-848.26C310.49,-834.76 320.28,-815.93 328.79,-799.55\"/>\n",
       "<polygon fill=\"black\" stroke=\"black\" points=\"332.12,-800.73 333.62,-790.24 325.91,-797.5 332.12,-800.73\"/>\n",
       "<text text-anchor=\"middle\" x=\"329\" y=\"-811.8\" font-family=\"Times,serif\" font-size=\"14.00\">3</text>\n",
       "</g>\n",
       "<!-- 22&#45;&gt;26 -->\n",
       "<g id=\"edge46\" class=\"edge\">\n",
       "<title>22&#45;&gt;26</title>\n",
       "<path fill=\"none\" stroke=\"black\" d=\"M270.79,-848.27C254.49,-834.16 233.61,-813.15 222,-790 212.61,-771.27 208.32,-748.22 206.4,-729.34\"/>\n",
       "<polygon fill=\"black\" stroke=\"black\" points=\"209.88,-729.01 205.55,-719.34 202.9,-729.6 209.88,-729.01\"/>\n",
       "<text text-anchor=\"middle\" x=\"250\" y=\"-811.8\" font-family=\"Times,serif\" font-size=\"14.00\">3</text>\n",
       "</g>\n",
       "<!-- 25 -->\n",
       "<g id=\"node25\" class=\"node\">\n",
       "<title>25</title>\n",
       "<polygon fill=\"none\" stroke=\"black\" points=\"388,-648 306,-648 306,-595 388,-595 388,-648\"/>\n",
       "<text text-anchor=\"middle\" x=\"347\" y=\"-632.8\" font-family=\"Times,serif\" font-size=\"14.00\">[25]</text>\n",
       "<text text-anchor=\"middle\" x=\"347\" y=\"-617.8\" font-family=\"Times,serif\" font-size=\"14.00\">Pre</text>\n",
       "<text text-anchor=\"middle\" x=\"347\" y=\"-602.8\" font-family=\"Times,serif\" font-size=\"14.00\">Compose</text>\n",
       "</g>\n",
       "<!-- 23&#45;&gt;25 -->\n",
       "<g id=\"edge43\" class=\"edge\">\n",
       "<title>23&#45;&gt;25</title>\n",
       "<path fill=\"none\" stroke=\"black\" d=\"M347,-736.82C347,-714.72 347,-682.6 347,-658.03\"/>\n",
       "<polygon fill=\"black\" stroke=\"black\" points=\"350.5,-658.02 347,-648.02 343.5,-658.02 350.5,-658.02\"/>\n",
       "<text text-anchor=\"middle\" x=\"352\" y=\"-688.8\" font-family=\"Times,serif\" font-size=\"14.00\">2</text>\n",
       "</g>\n",
       "<!-- 24&#45;&gt;25 -->\n",
       "<g id=\"edge42\" class=\"edge\">\n",
       "<title>24&#45;&gt;25</title>\n",
       "<path fill=\"none\" stroke=\"black\" d=\"M631.28,-840.84C600.24,-814.27 549.91,-771.85 505,-737 467.66,-708.02 424.08,-676.62 392.17,-654.04\"/>\n",
       "<polygon fill=\"black\" stroke=\"black\" points=\"394.09,-651.11 383.9,-648.21 390.05,-656.83 394.09,-651.11\"/>\n",
       "<text text-anchor=\"middle\" x=\"576\" y=\"-759.8\" font-family=\"Times,serif\" font-size=\"14.00\">1</text>\n",
       "</g>\n",
       "<!-- 27 -->\n",
       "<g id=\"node27\" class=\"node\">\n",
       "<title>27</title>\n",
       "<polygon fill=\"none\" stroke=\"black\" points=\"309.5,-544 236.5,-544 236.5,-491 309.5,-491 309.5,-544\"/>\n",
       "<text text-anchor=\"middle\" x=\"273\" y=\"-528.8\" font-family=\"Times,serif\" font-size=\"14.00\">[27]</text>\n",
       "<text text-anchor=\"middle\" x=\"273\" y=\"-513.8\" font-family=\"Times,serif\" font-size=\"14.00\">Fiber</text>\n",
       "<text text-anchor=\"middle\" x=\"273\" y=\"-498.8\" font-family=\"Times,serif\" font-size=\"14.00\">Product</text>\n",
       "</g>\n",
       "<!-- 25&#45;&gt;27 -->\n",
       "<g id=\"edge47\" class=\"edge\">\n",
       "<title>25&#45;&gt;27</title>\n",
       "<path fill=\"none\" stroke=\"black\" d=\"M328.33,-594.76C319.04,-581.96 307.69,-566.31 297.69,-552.53\"/>\n",
       "<polygon fill=\"black\" stroke=\"black\" points=\"300.37,-550.27 291.67,-544.23 294.71,-554.38 300.37,-550.27\"/>\n",
       "<text text-anchor=\"middle\" x=\"320\" y=\"-565.8\" font-family=\"Times,serif\" font-size=\"14.00\">1</text>\n",
       "</g>\n",
       "<!-- 28 -->\n",
       "<g id=\"node28\" class=\"node\">\n",
       "<title>28</title>\n",
       "<polygon fill=\"none\" stroke=\"black\" points=\"260,-440 0,-440 0,-387 260,-387 260,-440\"/>\n",
       "<text text-anchor=\"middle\" x=\"130\" y=\"-424.8\" font-family=\"Times,serif\" font-size=\"14.00\">[28]</text>\n",
       "<text text-anchor=\"middle\" x=\"130\" y=\"-409.8\" font-family=\"Times,serif\" font-size=\"14.00\">ProjectionInFactorOfFiberProduct</text>\n",
       "<text text-anchor=\"middle\" x=\"130\" y=\"-394.8\" font-family=\"Times,serif\" font-size=\"14.00\">WithGivenFiberProduct( 1 )</text>\n",
       "</g>\n",
       "<!-- 25&#45;&gt;28 -->\n",
       "<g id=\"edge49\" class=\"edge\">\n",
       "<title>25&#45;&gt;28</title>\n",
       "<path fill=\"none\" stroke=\"black\" d=\"M347.93,-594.82C347.59,-566.25 342.78,-520.28 318,-491 300.46,-470.28 276.46,-455.1 251.46,-444.01\"/>\n",
       "<polygon fill=\"black\" stroke=\"black\" points=\"252.79,-440.77 242.22,-440.1 250.07,-447.22 252.79,-440.77\"/>\n",
       "<text text-anchor=\"middle\" x=\"348\" y=\"-513.8\" font-family=\"Times,serif\" font-size=\"14.00\">1</text>\n",
       "</g>\n",
       "<!-- 29 -->\n",
       "<g id=\"node29\" class=\"node\">\n",
       "<title>29</title>\n",
       "<polygon fill=\"none\" stroke=\"black\" points=\"538,-440 278,-440 278,-387 538,-387 538,-440\"/>\n",
       "<text text-anchor=\"middle\" x=\"408\" y=\"-424.8\" font-family=\"Times,serif\" font-size=\"14.00\">[29]</text>\n",
       "<text text-anchor=\"middle\" x=\"408\" y=\"-409.8\" font-family=\"Times,serif\" font-size=\"14.00\">ProjectionInFactorOfFiberProduct</text>\n",
       "<text text-anchor=\"middle\" x=\"408\" y=\"-394.8\" font-family=\"Times,serif\" font-size=\"14.00\">WithGivenFiberProduct( 2 )</text>\n",
       "</g>\n",
       "<!-- 25&#45;&gt;29 -->\n",
       "<g id=\"edge52\" class=\"edge\">\n",
       "<title>25&#45;&gt;29</title>\n",
       "<path fill=\"none\" stroke=\"black\" d=\"M355.42,-594.78C357.29,-588.94 359.24,-582.77 361,-577 374.33,-533.35 388.8,-482.8 398.11,-449.83\"/>\n",
       "<polygon fill=\"black\" stroke=\"black\" points=\"401.48,-450.76 400.83,-440.18 394.75,-448.86 401.48,-450.76\"/>\n",
       "<text text-anchor=\"middle\" x=\"392\" y=\"-513.8\" font-family=\"Times,serif\" font-size=\"14.00\">1</text>\n",
       "</g>\n",
       "<!-- 26&#45;&gt;27 -->\n",
       "<g id=\"edge48\" class=\"edge\">\n",
       "<title>26&#45;&gt;27</title>\n",
       "<path fill=\"none\" stroke=\"black\" d=\"M215.03,-665.97C226.74,-636.2 246.14,-586.83 259.24,-553.5\"/>\n",
       "<polygon fill=\"black\" stroke=\"black\" points=\"262.52,-554.72 262.93,-544.13 256.01,-552.16 262.52,-554.72\"/>\n",
       "<text text-anchor=\"middle\" x=\"247\" y=\"-617.8\" font-family=\"Times,serif\" font-size=\"14.00\">2</text>\n",
       "</g>\n",
       "<!-- 26&#45;&gt;28 -->\n",
       "<g id=\"edge50\" class=\"edge\">\n",
       "<title>26&#45;&gt;28</title>\n",
       "<path fill=\"none\" stroke=\"black\" d=\"M197.17,-665.78C195.43,-659.94 193.63,-653.77 192,-648 172.25,-578.01 150.81,-495.71 139.03,-449.89\"/>\n",
       "<polygon fill=\"black\" stroke=\"black\" points=\"142.41,-448.95 136.53,-440.14 135.63,-450.69 142.41,-448.95\"/>\n",
       "<text text-anchor=\"middle\" x=\"177\" y=\"-565.8\" font-family=\"Times,serif\" font-size=\"14.00\">2</text>\n",
       "</g>\n",
       "<!-- 26&#45;&gt;29 -->\n",
       "<g id=\"edge53\" class=\"edge\">\n",
       "<title>26&#45;&gt;29</title>\n",
       "<path fill=\"none\" stroke=\"black\" d=\"M200.21,-665.78C194.05,-624.53 188.31,-542.96 227,-491 242.29,-470.47 264.17,-455.4 287.46,-444.36\"/>\n",
       "<polygon fill=\"black\" stroke=\"black\" points=\"289.1,-447.45 296.8,-440.17 286.24,-441.07 289.1,-447.45\"/>\n",
       "<text text-anchor=\"middle\" x=\"205\" y=\"-565.8\" font-family=\"Times,serif\" font-size=\"14.00\">2</text>\n",
       "</g>\n",
       "<!-- 27&#45;&gt;28 -->\n",
       "<g id=\"edge51\" class=\"edge\">\n",
       "<title>27&#45;&gt;28</title>\n",
       "<path fill=\"none\" stroke=\"black\" d=\"M236.92,-490.76C217.95,-477.23 194.53,-460.53 174.45,-446.21\"/>\n",
       "<polygon fill=\"black\" stroke=\"black\" points=\"176.25,-443.19 166.07,-440.23 172.18,-448.89 176.25,-443.19\"/>\n",
       "<text text-anchor=\"middle\" x=\"216\" y=\"-461.8\" font-family=\"Times,serif\" font-size=\"14.00\">3</text>\n",
       "</g>\n",
       "<!-- 27&#45;&gt;29 -->\n",
       "<g id=\"edge54\" class=\"edge\">\n",
       "<title>27&#45;&gt;29</title>\n",
       "<path fill=\"none\" stroke=\"black\" d=\"M307.07,-490.76C324.89,-477.29 346.88,-460.68 365.78,-446.4\"/>\n",
       "<polygon fill=\"black\" stroke=\"black\" points=\"368.08,-449.05 373.94,-440.23 363.86,-443.47 368.08,-449.05\"/>\n",
       "<text text-anchor=\"middle\" x=\"354\" y=\"-461.8\" font-family=\"Times,serif\" font-size=\"14.00\">3</text>\n",
       "</g>\n",
       "<!-- 30 -->\n",
       "<g id=\"node30\" class=\"node\">\n",
       "<title>30</title>\n",
       "<polygon fill=\"none\" stroke=\"black\" points=\"310.5,-336 235.5,-336 235.5,-298 310.5,-298 310.5,-336\"/>\n",
       "<text text-anchor=\"middle\" x=\"273\" y=\"-320.8\" font-family=\"Times,serif\" font-size=\"14.00\">[30]</text>\n",
       "<text text-anchor=\"middle\" x=\"273\" y=\"-305.8\" font-family=\"Times,serif\" font-size=\"14.00\">Pushout</text>\n",
       "</g>\n",
       "<!-- 28&#45;&gt;30 -->\n",
       "<g id=\"edge55\" class=\"edge\">\n",
       "<title>28&#45;&gt;30</title>\n",
       "<path fill=\"none\" stroke=\"black\" d=\"M190.81,-386.89C201.22,-381.55 211.68,-375.53 221,-369 231.42,-361.71 241.67,-352.28 250.29,-343.51\"/>\n",
       "<polygon fill=\"black\" stroke=\"black\" points=\"253.03,-345.7 257.4,-336.05 247.96,-340.87 253.03,-345.7\"/>\n",
       "<text text-anchor=\"middle\" x=\"244\" y=\"-357.8\" font-family=\"Times,serif\" font-size=\"14.00\">1</text>\n",
       "</g>\n",
       "<!-- 31 -->\n",
       "<g id=\"node31\" class=\"node\">\n",
       "<title>31</title>\n",
       "<polygon fill=\"none\" stroke=\"black\" points=\"508.5,-247 277.5,-247 277.5,-194 508.5,-194 508.5,-247\"/>\n",
       "<text text-anchor=\"middle\" x=\"393\" y=\"-231.8\" font-family=\"Times,serif\" font-size=\"14.00\">[31]</text>\n",
       "<text text-anchor=\"middle\" x=\"393\" y=\"-216.8\" font-family=\"Times,serif\" font-size=\"14.00\">InjectionOfCofactorOfPushout</text>\n",
       "<text text-anchor=\"middle\" x=\"393\" y=\"-201.8\" font-family=\"Times,serif\" font-size=\"14.00\">WithGivenPushout( 2 )</text>\n",
       "</g>\n",
       "<!-- 28&#45;&gt;31 -->\n",
       "<g id=\"edge57\" class=\"edge\">\n",
       "<title>28&#45;&gt;31</title>\n",
       "<path fill=\"none\" stroke=\"black\" d=\"M144.03,-386.66C158.97,-361.19 184.75,-322.62 216,-298 241.03,-278.28 271.92,-262.65 300.86,-250.79\"/>\n",
       "<polygon fill=\"black\" stroke=\"black\" points=\"302.18,-254.03 310.17,-247.07 299.58,-247.53 302.18,-254.03\"/>\n",
       "<text text-anchor=\"middle\" x=\"221\" y=\"-313.3\" font-family=\"Times,serif\" font-size=\"14.00\">1</text>\n",
       "</g>\n",
       "<!-- 33 -->\n",
       "<g id=\"node33\" class=\"node\">\n",
       "<title>33</title>\n",
       "<polygon fill=\"none\" stroke=\"black\" points=\"259.5,-247 28.5,-247 28.5,-194 259.5,-194 259.5,-247\"/>\n",
       "<text text-anchor=\"middle\" x=\"144\" y=\"-231.8\" font-family=\"Times,serif\" font-size=\"14.00\">[33]</text>\n",
       "<text text-anchor=\"middle\" x=\"144\" y=\"-216.8\" font-family=\"Times,serif\" font-size=\"14.00\">InjectionOfCofactorOfPushout</text>\n",
       "<text text-anchor=\"middle\" x=\"144\" y=\"-201.8\" font-family=\"Times,serif\" font-size=\"14.00\">WithGivenPushout( 1 )</text>\n",
       "</g>\n",
       "<!-- 28&#45;&gt;33 -->\n",
       "<g id=\"edge61\" class=\"edge\">\n",
       "<title>28&#45;&gt;33</title>\n",
       "<path fill=\"none\" stroke=\"black\" d=\"M131.89,-386.74C134.34,-353.33 138.62,-294.87 141.38,-257.19\"/>\n",
       "<polygon fill=\"black\" stroke=\"black\" points=\"144.88,-257.38 142.12,-247.16 137.9,-256.87 144.88,-257.38\"/>\n",
       "<text text-anchor=\"middle\" x=\"144\" y=\"-313.3\" font-family=\"Times,serif\" font-size=\"14.00\">1</text>\n",
       "</g>\n",
       "<!-- 29&#45;&gt;30 -->\n",
       "<g id=\"edge56\" class=\"edge\">\n",
       "<title>29&#45;&gt;30</title>\n",
       "<path fill=\"none\" stroke=\"black\" d=\"M351.6,-386.9C341.73,-381.51 331.81,-375.48 323,-369 313.11,-361.73 303.39,-352.45 295.19,-343.81\"/>\n",
       "<polygon fill=\"black\" stroke=\"black\" points=\"297.76,-341.43 288.41,-336.45 292.61,-346.17 297.76,-341.43\"/>\n",
       "<text text-anchor=\"middle\" x=\"328\" y=\"-357.8\" font-family=\"Times,serif\" font-size=\"14.00\">2</text>\n",
       "</g>\n",
       "<!-- 29&#45;&gt;31 -->\n",
       "<g id=\"edge58\" class=\"edge\">\n",
       "<title>29&#45;&gt;31</title>\n",
       "<path fill=\"none\" stroke=\"black\" d=\"M405.98,-386.74C403.35,-353.33 398.76,-294.87 395.8,-257.19\"/>\n",
       "<polygon fill=\"black\" stroke=\"black\" points=\"399.29,-256.85 395.01,-247.16 392.31,-257.4 399.29,-256.85\"/>\n",
       "<text text-anchor=\"middle\" x=\"407\" y=\"-313.3\" font-family=\"Times,serif\" font-size=\"14.00\">2</text>\n",
       "</g>\n",
       "<!-- 29&#45;&gt;33 -->\n",
       "<g id=\"edge62\" class=\"edge\">\n",
       "<title>29&#45;&gt;33</title>\n",
       "<path fill=\"none\" stroke=\"black\" d=\"M393.25,-386.71C377.61,-361.28 350.8,-322.73 319,-298 293.85,-278.44 262.92,-262.78 234.1,-250.85\"/>\n",
       "<polygon fill=\"black\" stroke=\"black\" points=\"235.4,-247.61 224.82,-247.11 232.79,-254.1 235.4,-247.61\"/>\n",
       "<text text-anchor=\"middle\" x=\"362\" y=\"-313.3\" font-family=\"Times,serif\" font-size=\"14.00\">2</text>\n",
       "</g>\n",
       "<!-- 30&#45;&gt;31 -->\n",
       "<g id=\"edge59\" class=\"edge\">\n",
       "<title>30&#45;&gt;31</title>\n",
       "<path fill=\"none\" stroke=\"black\" d=\"M296.14,-297.78C312.04,-285.26 333.58,-268.3 352.3,-253.55\"/>\n",
       "<polygon fill=\"black\" stroke=\"black\" points=\"354.72,-256.1 360.41,-247.17 350.39,-250.6 354.72,-256.1\"/>\n",
       "<text text-anchor=\"middle\" x=\"342\" y=\"-268.8\" font-family=\"Times,serif\" font-size=\"14.00\">3</text>\n",
       "</g>\n",
       "<!-- 30&#45;&gt;33 -->\n",
       "<g id=\"edge63\" class=\"edge\">\n",
       "<title>30&#45;&gt;33</title>\n",
       "<path fill=\"none\" stroke=\"black\" d=\"M248.13,-297.78C230.88,-285.15 207.47,-267.99 187.21,-253.15\"/>\n",
       "<polygon fill=\"black\" stroke=\"black\" points=\"189.17,-250.25 179.04,-247.17 185.04,-255.9 189.17,-250.25\"/>\n",
       "<text text-anchor=\"middle\" x=\"229\" y=\"-268.8\" font-family=\"Times,serif\" font-size=\"14.00\">3</text>\n",
       "</g>\n",
       "<!-- 32 -->\n",
       "<g id=\"node32\" class=\"node\">\n",
       "<title>32</title>\n",
       "<polygon fill=\"none\" stroke=\"black\" points=\"413.5,-157 292.5,-157 292.5,-104 413.5,-104 413.5,-157\"/>\n",
       "<text text-anchor=\"middle\" x=\"353\" y=\"-141.8\" font-family=\"Times,serif\" font-size=\"14.00\">[32]</text>\n",
       "<text text-anchor=\"middle\" x=\"353\" y=\"-126.8\" font-family=\"Times,serif\" font-size=\"14.00\">Inverse</text>\n",
       "<text text-anchor=\"middle\" x=\"353\" y=\"-111.8\" font-family=\"Times,serif\" font-size=\"14.00\">ForMorphisms</text>\n",
       "</g>\n",
       "<!-- 31&#45;&gt;32 -->\n",
       "<g id=\"edge60\" class=\"edge\">\n",
       "<title>31&#45;&gt;32</title>\n",
       "<path fill=\"none\" stroke=\"black\" d=\"M381.22,-193.57C377.35,-185.07 372.99,-175.48 368.87,-166.42\"/>\n",
       "<polygon fill=\"black\" stroke=\"black\" points=\"372.03,-164.9 364.7,-157.24 365.65,-167.79 372.03,-164.9\"/>\n",
       "</g>\n",
       "<!-- 34 -->\n",
       "<g id=\"node34\" class=\"node\">\n",
       "<title>34</title>\n",
       "<polygon fill=\"none\" stroke=\"black\" points=\"281,-53 199,-53 199,0 281,0 281,-53\"/>\n",
       "<text text-anchor=\"middle\" x=\"240\" y=\"-37.8\" font-family=\"Times,serif\" font-size=\"14.00\">[34]</text>\n",
       "<text text-anchor=\"middle\" x=\"240\" y=\"-22.8\" font-family=\"Times,serif\" font-size=\"14.00\">Pre</text>\n",
       "<text text-anchor=\"middle\" x=\"240\" y=\"-7.8\" font-family=\"Times,serif\" font-size=\"14.00\">Compose</text>\n",
       "</g>\n",
       "<!-- 32&#45;&gt;34 -->\n",
       "<g id=\"edge65\" class=\"edge\">\n",
       "<title>32&#45;&gt;34</title>\n",
       "<path fill=\"none\" stroke=\"black\" d=\"M324.49,-103.76C309.76,-90.47 291.65,-74.12 275.98,-59.98\"/>\n",
       "<polygon fill=\"black\" stroke=\"black\" points=\"278.27,-57.33 268.51,-53.23 273.58,-62.53 278.27,-57.33\"/>\n",
       "<text text-anchor=\"middle\" x=\"309\" y=\"-74.8\" font-family=\"Times,serif\" font-size=\"14.00\">2</text>\n",
       "</g>\n",
       "<!-- 33&#45;&gt;34 -->\n",
       "<g id=\"edge64\" class=\"edge\">\n",
       "<title>33&#45;&gt;34</title>\n",
       "<path fill=\"none\" stroke=\"black\" d=\"M156.95,-193.61C173.88,-159.73 203.63,-100.25 222.54,-62.41\"/>\n",
       "<polygon fill=\"black\" stroke=\"black\" points=\"225.76,-63.8 227.11,-53.29 219.5,-60.67 225.76,-63.8\"/>\n",
       "<text text-anchor=\"middle\" x=\"207\" y=\"-126.8\" font-family=\"Times,serif\" font-size=\"14.00\">1</text>\n",
       "</g>\n",
       "</g>\n",
       "</svg>\n"
      ]
     },
     "metadata": {},
     "output_type": "display_data"
    }
   ],
   "source": [
    "Visualize( s )"
   ]
  },
  {
   "cell_type": "code",
   "execution_count": 34,
   "id": "4569259d",
   "metadata": {},
   "outputs": [
    {
     "data": {
      "text/plain": [
       "GAP: \"PreCompose\""
      ]
     },
     "execution_count": 34,
     "metadata": {},
     "output_type": "execute_result"
    }
   ],
   "source": [
    "sO = GenesisOfCellOperation( s )"
   ]
  },
  {
   "cell_type": "code",
   "execution_count": 35,
   "id": "3567582b",
   "metadata": {},
   "outputs": [
    {
     "data": {
      "text/plain": [
       "GAP: [ <A morphism in LazyCategory( Adelman category( Additive closure( Algebroid( Z, FreeCategory( RightQuiver( \"q(4)[a:1->2,b:2->3,c:3->4]\" ) ) ) / relations ) ) )>, <A morphism in LazyCategory( Adelman category( Additive closure( Algebroid( Z, FreeCategory( RightQuiver( \"q(4)[a:1->2,b:2->3,c:3->4]\" ) ) ) / relations ) ) )> ]"
      ]
     },
     "execution_count": 35,
     "metadata": {},
     "output_type": "execute_result"
    }
   ],
   "source": [
    "sA = GenesisOfCellArguments( s )"
   ]
  },
  {
   "cell_type": "code",
   "execution_count": 36,
   "id": "b8101e4c",
   "metadata": {},
   "outputs": [
    {
     "data": {
      "text/plain": [
       "GAP: \"InjectionOfCofactorOfPushoutWithGivenPushout\""
      ]
     },
     "execution_count": 36,
     "metadata": {},
     "output_type": "execute_result"
    }
   ],
   "source": [
    "GenesisOfCellOperation( sA[1] )"
   ]
  },
  {
   "cell_type": "code",
   "execution_count": 37,
   "id": "7d6286fa",
   "metadata": {},
   "outputs": [
    {
     "data": {
      "text/plain": [
       "GAP: [ [ <A morphism in LazyCategory( Adelman category( Additive closure( Algebroid( Z, FreeCategory( RightQuiver( \"q(4)[a:1->2,b:2->3,c:3->4]\" ) ) ) / relations ) ) )>, <A morphism in LazyCategory( Adelman category( Additive closure( Algebroid( Z, FreeCategory( RightQuiver( \"q(4)[a:1->2,b:2->3,c:3->4]\" ) ) ) / relations ) ) )> ], 1, <An object in LazyCategory( Adelman category( Additive closure( Algebroid( Z, FreeCategory( RightQuiver( \"q(4)[a:1->2,b:2->3,c:3->4]\" ) ) ) / relations ) ) )> ]"
      ]
     },
     "execution_count": 37,
     "metadata": {},
     "output_type": "execute_result"
    }
   ],
   "source": [
    "GenesisOfCellArguments( sA[1] )"
   ]
  },
  {
   "cell_type": "code",
   "execution_count": 38,
   "id": "92dc6c30",
   "metadata": {},
   "outputs": [
    {
     "data": {
      "text/plain": [
       "GAP: \"InverseForMorphisms\""
      ]
     },
     "execution_count": 38,
     "metadata": {},
     "output_type": "execute_result"
    }
   ],
   "source": [
    "GenesisOfCellOperation( sA[2] )"
   ]
  },
  {
   "cell_type": "code",
   "execution_count": 39,
   "id": "c16ca435",
   "metadata": {},
   "outputs": [
    {
     "data": {
      "text/plain": [
       "GAP: [ LazyCategory( Adelman category( Additive closure( Algebroid( Z, FreeCategory( RightQuiver( \"q(4)[a:1->2,b:2->3,c:3->4]\" ) ) ) / relations ) ) ), <A morphism in LazyCategory( Adelman category( Additive closure( Algebroid( Z, FreeCategory( RightQuiver( \"q(4)[a:1->2,b:2->3,c:3->4]\" ) ) ) / relations ) ) )> ]"
      ]
     },
     "execution_count": 39,
     "metadata": {},
     "output_type": "execute_result"
    }
   ],
   "source": [
    "GenesisOfCellArguments( sA[2] )"
   ]
  },
  {
   "cell_type": "code",
   "execution_count": 40,
   "id": "23258d3e",
   "metadata": {},
   "outputs": [
    {
     "data": {
      "text/plain": [
       "false"
      ]
     },
     "execution_count": 40,
     "metadata": {},
     "output_type": "execute_result"
    }
   ],
   "source": [
    "HasGenesisOfCellOperation( a )"
   ]
  },
  {
   "cell_type": "code",
   "execution_count": 41,
   "id": "bf6727f2",
   "metadata": {},
   "outputs": [
    {
     "data": {
      "text/plain": [
       "false"
      ]
     },
     "execution_count": 41,
     "metadata": {},
     "output_type": "execute_result"
    }
   ],
   "source": [
    "HasGenesisOfCellArguments( a )"
   ]
  },
  {
   "cell_type": "code",
   "execution_count": 42,
   "id": "fe428d8f",
   "metadata": {},
   "outputs": [
    {
     "data": {
      "text/plain": [
       "GAP: <A morphism in LazyCategory( Adelman category( Additive closure( Algebroid( Z, FreeCategory( RightQuiver( \"q(4)[a:1->2,b:2->3,c:3->4]\" ) ) ) / relations ) ) )>"
      ]
     },
     "execution_count": 42,
     "metadata": {},
     "output_type": "execute_result"
    }
   ],
   "source": [
    "j = KernelObjectFunctorial( b, d, e )"
   ]
  },
  {
   "cell_type": "code",
   "execution_count": 43,
   "id": "c64ca9e3",
   "metadata": {},
   "outputs": [
    {
     "data": {
      "text/plain": [
       "GAP: <A morphism in LazyCategory( Adelman category( Additive closure( Algebroid( Z, FreeCategory( RightQuiver( \"q(4)[a:1->2,b:2->3,c:3->4]\" ) ) ) / relations ) ) )>"
      ]
     },
     "execution_count": 43,
     "metadata": {},
     "output_type": "execute_result"
    }
   ],
   "source": [
    "k = CokernelObjectFunctorial( h, g, b )"
   ]
  },
  {
   "cell_type": "code",
   "execution_count": 44,
   "id": "4e0ec477",
   "metadata": {},
   "outputs": [
    {
     "data": {
      "text/plain": [
       "GAP: <An object in LazyCategory( Adelman category( Additive closure( Algebroid( Z, FreeCategory( RightQuiver( \"q(4)[a:1->2,b:2->3,c:3->4]\" ) ) ) / relations ) ) )>"
      ]
     },
     "execution_count": 44,
     "metadata": {},
     "output_type": "execute_result"
    }
   ],
   "source": [
    "HK = HomologyObject( j, s )"
   ]
  },
  {
   "cell_type": "code",
   "execution_count": 45,
   "id": "a2f439ae",
   "metadata": {},
   "outputs": [
    {
     "data": {
      "text/plain": [
       "GAP: <An object in LazyCategory( Adelman category( Additive closure( Algebroid( Z, FreeCategory( RightQuiver( \"q(4)[a:1->2,b:2->3,c:3->4]\" ) ) ) / relations ) ) )>"
      ]
     },
     "execution_count": 45,
     "metadata": {},
     "output_type": "execute_result"
    }
   ],
   "source": [
    "HC = HomologyObject( s, k )"
   ]
  }
 ],
 "metadata": {
  "@webio": {
   "lastCommId": null,
   "lastKernelId": null
  },
  "kernelspec": {
   "display_name": "Julia 1.9.2",
   "language": "julia",
   "name": "julia-1.9"
  },
  "language_info": {
   "file_extension": ".jl",
   "mimetype": "application/julia",
   "name": "julia",
   "version": "1.9.2"
  }
 },
 "nbformat": 4,
 "nbformat_minor": 5
}
